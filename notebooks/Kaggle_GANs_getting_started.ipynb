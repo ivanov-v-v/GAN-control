{
 "cells": [
  {
   "cell_type": "code",
   "execution_count": 2,
   "metadata": {},
   "outputs": [],
   "source": [
    "%load_ext autoreload\n",
    "%autoreload 2\n",
    "\n",
    "import IPython.display\n",
    "\n",
    "import collections\n",
    "import imageio\n",
    "import itertools\n",
    "import os\n",
    "import sys\n",
    "import typing\n",
    "\n",
    "import numpy as np\n",
    "import PIL\n",
    "import torch\n",
    "import torchsummary\n",
    "import torchvision\n",
    "from tqdm.auto import tqdm\n",
    "\n",
    "import matplotlib.animation as animation\n",
    "import matplotlib.pyplot as plt\n",
    "\n",
    "sys.path.append(os.path.abspath('../models'))\n",
    "from CycleGAN.model import initialize_weights, Generator, Discriminator, ResNetBlock"
   ]
  },
  {
   "cell_type": "markdown",
   "metadata": {},
   "source": [
    "# Config"
   ]
  },
  {
   "cell_type": "code",
   "execution_count": 3,
   "metadata": {},
   "outputs": [],
   "source": [
    "# dataloader params\n",
    "IMAGE_SIZE: int = 256\n",
    "BATCH_SIZE: int = 1\n",
    "\n",
    "# loss components' weights\n",
    "LAMBDA_CYCLE: float = 10.\n",
    "LAMBDA_IDENTITY: float = 0.5 * LAMBDA_CYCLE\n",
    "\n",
    "# hyperparameter of Adam\n",
    "BETA_1: float = 0.5  \n",
    "LEARNING_RATE: float = 0.0002\n",
    "\n",
    "# whether to train discriminator more often\n",
    "D_TO_G_STEPS_RATIO: int = 1\n",
    "    \n",
    "FAKE_LABEL: int = 0\n",
    "REAL_LABEL: int = 1\n",
    "\n",
    "DEVICE = torch.device('cuda:7')"
   ]
  },
  {
   "cell_type": "markdown",
   "metadata": {},
   "source": [
    "# Data loading"
   ]
  },
  {
   "cell_type": "code",
   "execution_count": 4,
   "metadata": {},
   "outputs": [],
   "source": [
    "transforms = torchvision.transforms.Compose(\n",
    "    (\n",
    "        torchvision.transforms.Resize(IMAGE_SIZE),\n",
    "        torchvision.transforms.CenterCrop(IMAGE_SIZE),\n",
    "        torchvision.transforms.ToTensor(),\n",
    "    )\n",
    ")\n",
    "\n",
    "folder_A = torchvision.datasets.ImageFolder(\n",
    "    '../data/processed/CycleGAN/paintings/',\n",
    "    transform=transforms\n",
    ")\n",
    "\n",
    "loader_A = torch.utils.data.DataLoader(\n",
    "    folder_A, \n",
    "    batch_size=BATCH_SIZE,\n",
    "    shuffle=True, \n",
    "    num_workers=4\n",
    ")\n",
    "\n",
    "folder_B = torchvision.datasets.ImageFolder(\n",
    "    '../data/processed/CycleGAN/photos/',\n",
    "    transform=transforms\n",
    ")\n",
    "\n",
    "loader_B = torch.utils.data.DataLoader(\n",
    "    folder_B, \n",
    "    batch_size=BATCH_SIZE,\n",
    "    shuffle=True, \n",
    "    num_workers=4\n",
    ")"
   ]
  },
  {
   "cell_type": "markdown",
   "metadata": {},
   "source": [
    "# DCGAN"
   ]
  },
  {
   "cell_type": "markdown",
   "metadata": {},
   "source": [
    "## Generator"
   ]
  },
  {
   "cell_type": "code",
   "execution_count": 5,
   "metadata": {},
   "outputs": [],
   "source": [
    "G_A = Generator().to(DEVICE)\n",
    "G_A.apply(initialize_weights)\n",
    "\n",
    "G_B = Generator().to(DEVICE)\n",
    "G_B.apply(initialize_weights)\n",
    "\n",
    "optimizer_G = torch.optim.Adam(\n",
    "    itertools.chain(G_A.parameters(), G_B.parameters()),\n",
    "    lr=LEARNING_RATE, \n",
    "    betas=(BETA_1, 0.999)\n",
    ")"
   ]
  },
  {
   "cell_type": "code",
   "execution_count": 9,
   "metadata": {},
   "outputs": [
    {
     "data": {
      "text/plain": [
       "<All keys matched successfully>"
      ]
     },
     "execution_count": 9,
     "metadata": {},
     "output_type": "execute_result"
    }
   ],
   "source": [
    "G_A.load_state_dict(torch.load('./G_A.pth'))\n",
    "G_B.load_state_dict(torch.load('./G_B.pth'))"
   ]
  },
  {
   "cell_type": "markdown",
   "metadata": {},
   "source": [
    "## Discriminator"
   ]
  },
  {
   "cell_type": "code",
   "execution_count": 6,
   "metadata": {},
   "outputs": [],
   "source": [
    "D_A = Discriminator().to(DEVICE)\n",
    "D_A.apply(initialize_weights)\n",
    "\n",
    "\n",
    "D_B = Discriminator().to(DEVICE)\n",
    "D_B.apply(initialize_weights)\n",
    "\n",
    "optimizer_D = torch.optim.Adam(\n",
    "    itertools.chain(D_A.parameters(), D_B.parameters()), \n",
    "    lr=LEARNING_RATE,\n",
    "    betas=(BETA_1, 0.999)\n",
    ")"
   ]
  },
  {
   "cell_type": "code",
   "execution_count": 10,
   "metadata": {},
   "outputs": [
    {
     "data": {
      "text/plain": [
       "<All keys matched successfully>"
      ]
     },
     "execution_count": 10,
     "metadata": {},
     "output_type": "execute_result"
    }
   ],
   "source": [
    "D_A.load_state_dict(torch.load('./D_A.pth'))\n",
    "D_B.load_state_dict(torch.load('./D_B.pth'))"
   ]
  },
  {
   "cell_type": "markdown",
   "metadata": {},
   "source": [
    "## Criterions"
   ]
  },
  {
   "cell_type": "code",
   "execution_count": 6,
   "metadata": {},
   "outputs": [],
   "source": [
    "criterion_GAN = torch.nn.MSELoss()\n",
    "criterion_cycle = torch.nn.L1Loss()\n",
    "criterion_identity = torch.nn.L1Loss()"
   ]
  },
  {
   "cell_type": "markdown",
   "metadata": {},
   "source": [
    "## Training loop"
   ]
  },
  {
   "cell_type": "code",
   "execution_count": 7,
   "metadata": {},
   "outputs": [],
   "source": [
    "def set_requires_grad(nets: typing.Iterable[torch.nn.Module], value: bool) -> None:\n",
    "    for net in nets:\n",
    "        for param in net.parameters():\n",
    "            param.requires_grad = value"
   ]
  },
  {
   "cell_type": "code",
   "execution_count": 8,
   "metadata": {},
   "outputs": [],
   "source": [
    "def create_label_vector(size: torch.Size, label: int) -> torch.Tensor:\n",
    "    return torch.full(size, label, dtype=torch.float32, device=DEVICE)"
   ]
  },
  {
   "cell_type": "code",
   "execution_count": 9,
   "metadata": {
    "scrolled": true
   },
   "outputs": [
    {
     "data": {
      "application/vnd.jupyter.widget-view+json": {
       "model_id": "ed849547b5be41b8bd9887ab3d281ec2",
       "version_major": 2,
       "version_minor": 0
      },
      "text/plain": [
       "epoch:   0%|          | 0/100 [00:00<?, ?it/s]"
      ]
     },
     "metadata": {},
     "output_type": "display_data"
    },
    {
     "data": {
      "application/vnd.jupyter.widget-view+json": {
       "model_id": "13d39b1a33af4a00a066efe0054fca9b",
       "version_major": 2,
       "version_minor": 0
      },
      "text/plain": [
       "batch: |          | 0/? [00:00<?, ?it/s]"
      ]
     },
     "metadata": {},
     "output_type": "display_data"
    },
    {
     "name": "stdout",
     "output_type": "stream",
     "text": [
      "Epoch 0:\n",
      "\t- loss_G: 11.090516402358897\n",
      "\t- loss_D: 0.5316779291398867\n"
     ]
    },
    {
     "data": {
      "application/vnd.jupyter.widget-view+json": {
       "model_id": "ced893e57bea4253994c3bfbd2d77267",
       "version_major": 2,
       "version_minor": 0
      },
      "text/plain": [
       "batch: |          | 0/? [00:00<?, ?it/s]"
      ]
     },
     "metadata": {},
     "output_type": "display_data"
    },
    {
     "name": "stdout",
     "output_type": "stream",
     "text": [
      "Epoch 1:\n",
      "\t- loss_G: 10.91655971920281\n",
      "\t- loss_D: 0.38978618229004114\n"
     ]
    },
    {
     "data": {
      "application/vnd.jupyter.widget-view+json": {
       "model_id": "8bac55dd38db4eada9b1a043d31417cb",
       "version_major": 2,
       "version_minor": 0
      },
      "text/plain": [
       "batch: |          | 0/? [00:00<?, ?it/s]"
      ]
     },
     "metadata": {},
     "output_type": "display_data"
    },
    {
     "name": "stderr",
     "output_type": "stream",
     "text": [
      "IOPub message rate exceeded.\n",
      "The notebook server will temporarily stop sending output\n",
      "to the client in order to avoid crashing it.\n",
      "To change this limit, set the config variable\n",
      "`--NotebookApp.iopub_msg_rate_limit`.\n",
      "\n",
      "Current values:\n",
      "NotebookApp.iopub_msg_rate_limit=1000.0 (msgs/sec)\n",
      "NotebookApp.rate_limit_window=3.0 (secs)\n",
      "\n"
     ]
    },
    {
     "name": "stdout",
     "output_type": "stream",
     "text": [
      "Epoch 10:\n",
      "\t- loss_G: 10.344492165665878\n",
      "\t- loss_D: 0.36826700796182565\n"
     ]
    },
    {
     "data": {
      "application/vnd.jupyter.widget-view+json": {
       "model_id": "b6d8af4efc0c445b9eaa7a141c6917a6",
       "version_major": 2,
       "version_minor": 0
      },
      "text/plain": [
       "batch: |          | 0/? [00:00<?, ?it/s]"
      ]
     },
     "metadata": {},
     "output_type": "display_data"
    },
    {
     "name": "stdout",
     "output_type": "stream",
     "text": [
      "Epoch 11:\n",
      "\t- loss_G: 10.186769816959114\n",
      "\t- loss_D: 0.3811123859169975\n"
     ]
    },
    {
     "data": {
      "application/vnd.jupyter.widget-view+json": {
       "model_id": "ddf0775b945440a2b12fb8edb5124182",
       "version_major": 2,
       "version_minor": 0
      },
      "text/plain": [
       "batch: |          | 0/? [00:00<?, ?it/s]"
      ]
     },
     "metadata": {},
     "output_type": "display_data"
    },
    {
     "name": "stderr",
     "output_type": "stream",
     "text": [
      "IOPub message rate exceeded.\n",
      "The notebook server will temporarily stop sending output\n",
      "to the client in order to avoid crashing it.\n",
      "To change this limit, set the config variable\n",
      "`--NotebookApp.iopub_msg_rate_limit`.\n",
      "\n",
      "Current values:\n",
      "NotebookApp.iopub_msg_rate_limit=1000.0 (msgs/sec)\n",
      "NotebookApp.rate_limit_window=3.0 (secs)\n",
      "\n"
     ]
    },
    {
     "name": "stdout",
     "output_type": "stream",
     "text": [
      "Epoch 19:\n",
      "\t- loss_G: 10.417539608757398\n",
      "\t- loss_D: 0.3068674404571672\n"
     ]
    },
    {
     "data": {
      "application/vnd.jupyter.widget-view+json": {
       "model_id": "323805efeab64315a1a61f931e86b253",
       "version_major": 2,
       "version_minor": 0
      },
      "text/plain": [
       "batch: |          | 0/? [00:00<?, ?it/s]"
      ]
     },
     "metadata": {},
     "output_type": "display_data"
    },
    {
     "name": "stdout",
     "output_type": "stream",
     "text": [
      "Epoch 20:\n",
      "\t- loss_G: 10.129189653354778\n",
      "\t- loss_D: 0.35990420538027995\n"
     ]
    },
    {
     "data": {
      "application/vnd.jupyter.widget-view+json": {
       "model_id": "7dde6d6592394f44ae44a363ac96cca1",
       "version_major": 2,
       "version_minor": 0
      },
      "text/plain": [
       "batch: |          | 0/? [00:00<?, ?it/s]"
      ]
     },
     "metadata": {},
     "output_type": "display_data"
    },
    {
     "name": "stderr",
     "output_type": "stream",
     "text": [
      "IOPub message rate exceeded.\n",
      "The notebook server will temporarily stop sending output\n",
      "to the client in order to avoid crashing it.\n",
      "To change this limit, set the config variable\n",
      "`--NotebookApp.iopub_msg_rate_limit`.\n",
      "\n",
      "Current values:\n",
      "NotebookApp.iopub_msg_rate_limit=1000.0 (msgs/sec)\n",
      "NotebookApp.rate_limit_window=3.0 (secs)\n",
      "\n",
      "IOPub message rate exceeded.\n",
      "The notebook server will temporarily stop sending output\n",
      "to the client in order to avoid crashing it.\n",
      "To change this limit, set the config variable\n",
      "`--NotebookApp.iopub_msg_rate_limit`.\n",
      "\n",
      "Current values:\n",
      "NotebookApp.iopub_msg_rate_limit=1000.0 (msgs/sec)\n",
      "NotebookApp.rate_limit_window=3.0 (secs)\n",
      "\n"
     ]
    },
    {
     "name": "stdout",
     "output_type": "stream",
     "text": [
      "Epoch 30:\n",
      "\t- loss_G: 10.181098409214911\n",
      "\t- loss_D: 0.3398827228542657\n"
     ]
    },
    {
     "data": {
      "application/vnd.jupyter.widget-view+json": {
       "model_id": "43cc4e06798a41fbb9549b4051fda7c7",
       "version_major": 2,
       "version_minor": 0
      },
      "text/plain": [
       "batch: |          | 0/? [00:00<?, ?it/s]"
      ]
     },
     "metadata": {},
     "output_type": "display_data"
    },
    {
     "name": "stderr",
     "output_type": "stream",
     "text": [
      "IOPub message rate exceeded.\n",
      "The notebook server will temporarily stop sending output\n",
      "to the client in order to avoid crashing it.\n",
      "To change this limit, set the config variable\n",
      "`--NotebookApp.iopub_msg_rate_limit`.\n",
      "\n",
      "Current values:\n",
      "NotebookApp.iopub_msg_rate_limit=1000.0 (msgs/sec)\n",
      "NotebookApp.rate_limit_window=3.0 (secs)\n",
      "\n"
     ]
    },
    {
     "name": "stdout",
     "output_type": "stream",
     "text": [
      "Epoch 32:\n",
      "\t- loss_G: 10.208001171287737\n",
      "\t- loss_D: 0.3317513466534907\n"
     ]
    },
    {
     "data": {
      "application/vnd.jupyter.widget-view+json": {
       "model_id": "7166de8919004c45a99f8b8f03b1afa5",
       "version_major": 2,
       "version_minor": 0
      },
      "text/plain": [
       "batch: |          | 0/? [00:00<?, ?it/s]"
      ]
     },
     "metadata": {},
     "output_type": "display_data"
    },
    {
     "name": "stderr",
     "output_type": "stream",
     "text": [
      "IOPub message rate exceeded.\n",
      "The notebook server will temporarily stop sending output\n",
      "to the client in order to avoid crashing it.\n",
      "To change this limit, set the config variable\n",
      "`--NotebookApp.iopub_msg_rate_limit`.\n",
      "\n",
      "Current values:\n",
      "NotebookApp.iopub_msg_rate_limit=1000.0 (msgs/sec)\n",
      "NotebookApp.rate_limit_window=3.0 (secs)\n",
      "\n"
     ]
    },
    {
     "name": "stdout",
     "output_type": "stream",
     "text": [
      "Epoch 40:\n",
      "\t- loss_G: 10.322948973429831\n",
      "\t- loss_D: 0.2650496931447054\n"
     ]
    },
    {
     "data": {
      "application/vnd.jupyter.widget-view+json": {
       "model_id": "0caf9407c725463098d9f7153388528b",
       "version_major": 2,
       "version_minor": 0
      },
      "text/plain": [
       "batch: |          | 0/? [00:00<?, ?it/s]"
      ]
     },
     "metadata": {},
     "output_type": "display_data"
    },
    {
     "name": "stdout",
     "output_type": "stream",
     "text": [
      "Epoch 41:\n",
      "\t- loss_G: 10.277315839340812\n",
      "\t- loss_D: 0.27267944137429634\n"
     ]
    },
    {
     "data": {
      "application/vnd.jupyter.widget-view+json": {
       "model_id": "cc93ab3b16244f73b1945247f7d5f729",
       "version_major": 2,
       "version_minor": 0
      },
      "text/plain": [
       "batch: |          | 0/? [00:00<?, ?it/s]"
      ]
     },
     "metadata": {},
     "output_type": "display_data"
    },
    {
     "name": "stderr",
     "output_type": "stream",
     "text": [
      "IOPub message rate exceeded.\n",
      "The notebook server will temporarily stop sending output\n",
      "to the client in order to avoid crashing it.\n",
      "To change this limit, set the config variable\n",
      "`--NotebookApp.iopub_msg_rate_limit`.\n",
      "\n",
      "Current values:\n",
      "NotebookApp.iopub_msg_rate_limit=1000.0 (msgs/sec)\n",
      "NotebookApp.rate_limit_window=3.0 (secs)\n",
      "\n"
     ]
    },
    {
     "name": "stdout",
     "output_type": "stream",
     "text": [
      "Epoch 50:\n",
      "\t- loss_G: 10.239140233798334\n",
      "\t- loss_D: 0.26669851066653577\n"
     ]
    },
    {
     "data": {
      "application/vnd.jupyter.widget-view+json": {
       "model_id": "99f946590ca549aebb216dd04f5faf5e",
       "version_major": 2,
       "version_minor": 0
      },
      "text/plain": [
       "batch: |          | 0/? [00:00<?, ?it/s]"
      ]
     },
     "metadata": {},
     "output_type": "display_data"
    },
    {
     "name": "stdout",
     "output_type": "stream",
     "text": [
      "Epoch 51:\n",
      "\t- loss_G: 10.193927221130906\n",
      "\t- loss_D: 0.27489414243082033\n"
     ]
    },
    {
     "data": {
      "application/vnd.jupyter.widget-view+json": {
       "model_id": "6062ef3b28c4454ca48472812ebe3b14",
       "version_major": 2,
       "version_minor": 0
      },
      "text/plain": [
       "batch: |          | 0/? [00:00<?, ?it/s]"
      ]
     },
     "metadata": {},
     "output_type": "display_data"
    },
    {
     "name": "stderr",
     "output_type": "stream",
     "text": [
      "IOPub message rate exceeded.\n",
      "The notebook server will temporarily stop sending output\n",
      "to the client in order to avoid crashing it.\n",
      "To change this limit, set the config variable\n",
      "`--NotebookApp.iopub_msg_rate_limit`.\n",
      "\n",
      "Current values:\n",
      "NotebookApp.iopub_msg_rate_limit=1000.0 (msgs/sec)\n",
      "NotebookApp.rate_limit_window=3.0 (secs)\n",
      "\n"
     ]
    },
    {
     "name": "stdout",
     "output_type": "stream",
     "text": [
      "Epoch 61:\n",
      "\t- loss_G: 10.217940305060113\n",
      "\t- loss_D: 0.27687912828109246\n"
     ]
    },
    {
     "data": {
      "application/vnd.jupyter.widget-view+json": {
       "model_id": "539a481abde9446d962a8de4ef72835e",
       "version_major": 2,
       "version_minor": 0
      },
      "text/plain": [
       "batch: |          | 0/? [00:00<?, ?it/s]"
      ]
     },
     "metadata": {},
     "output_type": "display_data"
    },
    {
     "name": "stdout",
     "output_type": "stream",
     "text": [
      "Epoch 62:\n",
      "\t- loss_G: 10.240308305673432\n",
      "\t- loss_D: 0.27140431183428443\n"
     ]
    },
    {
     "data": {
      "application/vnd.jupyter.widget-view+json": {
       "model_id": "8251d28eb29f4582aca314d993d17dcc",
       "version_major": 2,
       "version_minor": 0
      },
      "text/plain": [
       "batch: |          | 0/? [00:00<?, ?it/s]"
      ]
     },
     "metadata": {},
     "output_type": "display_data"
    },
    {
     "name": "stderr",
     "output_type": "stream",
     "text": [
      "IOPub message rate exceeded.\n",
      "The notebook server will temporarily stop sending output\n",
      "to the client in order to avoid crashing it.\n",
      "To change this limit, set the config variable\n",
      "`--NotebookApp.iopub_msg_rate_limit`.\n",
      "\n",
      "Current values:\n",
      "NotebookApp.iopub_msg_rate_limit=1000.0 (msgs/sec)\n",
      "NotebookApp.rate_limit_window=3.0 (secs)\n",
      "\n"
     ]
    },
    {
     "name": "stdout",
     "output_type": "stream",
     "text": [
      "Epoch 71:\n",
      "\t- loss_G: 10.273009789617438\n",
      "\t- loss_D: 0.23205080103368786\n"
     ]
    },
    {
     "data": {
      "application/vnd.jupyter.widget-view+json": {
       "model_id": "0bc8d9c99e26473fb0a5a97e760eccc5",
       "version_major": 2,
       "version_minor": 0
      },
      "text/plain": [
       "batch: |          | 0/? [00:00<?, ?it/s]"
      ]
     },
     "metadata": {},
     "output_type": "display_data"
    },
    {
     "name": "stdout",
     "output_type": "stream",
     "text": [
      "Epoch 72:\n",
      "\t- loss_G: 10.26385810221845\n",
      "\t- loss_D: 0.24014936125570396\n"
     ]
    },
    {
     "data": {
      "application/vnd.jupyter.widget-view+json": {
       "model_id": "fe105899064c4ed795ee6a11fe5be3f7",
       "version_major": 2,
       "version_minor": 0
      },
      "text/plain": [
       "batch: |          | 0/? [00:00<?, ?it/s]"
      ]
     },
     "metadata": {},
     "output_type": "display_data"
    },
    {
     "name": "stdout",
     "output_type": "stream",
     "text": [
      "Epoch 73:\n",
      "\t- loss_G: 10.344013901481851\n",
      "\t- loss_D: 0.2458099006315726\n"
     ]
    },
    {
     "data": {
      "application/vnd.jupyter.widget-view+json": {
       "model_id": "1fc4775a83314bd5ae1fc274307bd7cc",
       "version_major": 2,
       "version_minor": 0
      },
      "text/plain": [
       "batch: |          | 0/? [00:00<?, ?it/s]"
      ]
     },
     "metadata": {},
     "output_type": "display_data"
    },
    {
     "name": "stdout",
     "output_type": "stream",
     "text": [
      "Epoch 75:\n",
      "\t- loss_G: 10.382334884844328\n",
      "\t- loss_D: 0.22328190074972154\n"
     ]
    },
    {
     "data": {
      "application/vnd.jupyter.widget-view+json": {
       "model_id": "b88bd14ba326454dbac8487f424d6731",
       "version_major": 2,
       "version_minor": 0
      },
      "text/plain": [
       "batch: |          | 0/? [00:00<?, ?it/s]"
      ]
     },
     "metadata": {},
     "output_type": "display_data"
    },
    {
     "name": "stdout",
     "output_type": "stream",
     "text": [
      "Epoch 76:\n",
      "\t- loss_G: 10.54866470474946\n",
      "\t- loss_D: 0.19658215674816779\n"
     ]
    },
    {
     "data": {
      "application/vnd.jupyter.widget-view+json": {
       "model_id": "eeef36cfdfaa4d5eaf2eb064120aaec7",
       "version_major": 2,
       "version_minor": 0
      },
      "text/plain": [
       "batch: |          | 0/? [00:00<?, ?it/s]"
      ]
     },
     "metadata": {},
     "output_type": "display_data"
    },
    {
     "name": "stderr",
     "output_type": "stream",
     "text": [
      "IOPub message rate exceeded.\n",
      "The notebook server will temporarily stop sending output\n",
      "to the client in order to avoid crashing it.\n",
      "To change this limit, set the config variable\n",
      "`--NotebookApp.iopub_msg_rate_limit`.\n",
      "\n",
      "Current values:\n",
      "NotebookApp.iopub_msg_rate_limit=1000.0 (msgs/sec)\n",
      "NotebookApp.rate_limit_window=3.0 (secs)\n",
      "\n"
     ]
    },
    {
     "name": "stdout",
     "output_type": "stream",
     "text": [
      "Epoch 85:\n",
      "\t- loss_G: 10.1633400659115\n",
      "\t- loss_D: 0.2496159673581303\n"
     ]
    },
    {
     "data": {
      "application/vnd.jupyter.widget-view+json": {
       "model_id": "86522e2067ed49dc8544b9fcc82f2ee9",
       "version_major": 2,
       "version_minor": 0
      },
      "text/plain": [
       "batch: |          | 0/? [00:00<?, ?it/s]"
      ]
     },
     "metadata": {},
     "output_type": "display_data"
    },
    {
     "name": "stdout",
     "output_type": "stream",
     "text": [
      "Epoch 86:\n",
      "\t- loss_G: 10.266676666792373\n",
      "\t- loss_D: 0.2571000038123314\n"
     ]
    },
    {
     "data": {
      "application/vnd.jupyter.widget-view+json": {
       "model_id": "5f2757575ec94342abce1f3df1c676a7",
       "version_major": 2,
       "version_minor": 0
      },
      "text/plain": [
       "batch: |          | 0/? [00:00<?, ?it/s]"
      ]
     },
     "metadata": {},
     "output_type": "display_data"
    },
    {
     "name": "stderr",
     "output_type": "stream",
     "text": [
      "IOPub message rate exceeded.\n",
      "The notebook server will temporarily stop sending output\n",
      "to the client in order to avoid crashing it.\n",
      "To change this limit, set the config variable\n",
      "`--NotebookApp.iopub_msg_rate_limit`.\n",
      "\n",
      "Current values:\n",
      "NotebookApp.iopub_msg_rate_limit=1000.0 (msgs/sec)\n",
      "NotebookApp.rate_limit_window=3.0 (secs)\n",
      "\n"
     ]
    },
    {
     "name": "stdout",
     "output_type": "stream",
     "text": [
      "Epoch 94:\n",
      "\t- loss_G: 10.498800297578176\n",
      "\t- loss_D: 0.2342067484346311\n"
     ]
    },
    {
     "data": {
      "application/vnd.jupyter.widget-view+json": {
       "model_id": "5331d6699cf6412bb98485b6ff303ccd",
       "version_major": 2,
       "version_minor": 0
      },
      "text/plain": [
       "batch: |          | 0/? [00:00<?, ?it/s]"
      ]
     },
     "metadata": {},
     "output_type": "display_data"
    },
    {
     "name": "stdout",
     "output_type": "stream",
     "text": [
      "Epoch 95:\n",
      "\t- loss_G: 10.168715218354388\n",
      "\t- loss_D: 0.282074102369404\n"
     ]
    },
    {
     "data": {
      "application/vnd.jupyter.widget-view+json": {
       "model_id": "5e73098413954cea9ef93250d7ab0e48",
       "version_major": 2,
       "version_minor": 0
      },
      "text/plain": [
       "batch: |          | 0/? [00:00<?, ?it/s]"
      ]
     },
     "metadata": {},
     "output_type": "display_data"
    },
    {
     "name": "stderr",
     "output_type": "stream",
     "text": [
      "IOPub message rate exceeded.\n",
      "The notebook server will temporarily stop sending output\n",
      "to the client in order to avoid crashing it.\n",
      "To change this limit, set the config variable\n",
      "`--NotebookApp.iopub_msg_rate_limit`.\n",
      "\n",
      "Current values:\n",
      "NotebookApp.iopub_msg_rate_limit=1000.0 (msgs/sec)\n",
      "NotebookApp.rate_limit_window=3.0 (secs)\n",
      "\n"
     ]
    },
    {
     "name": "stdout",
     "output_type": "stream",
     "text": [
      "Epoch 96:\n",
      "\t- loss_G: 10.147673634409207\n",
      "\t- loss_D: 0.25856199012306785\n"
     ]
    },
    {
     "data": {
      "application/vnd.jupyter.widget-view+json": {
       "model_id": "34db12506940438bb3ef6fb3d59d5051",
       "version_major": 2,
       "version_minor": 0
      },
      "text/plain": [
       "batch: |          | 0/? [00:00<?, ?it/s]"
      ]
     },
     "metadata": {},
     "output_type": "display_data"
    },
    {
     "name": "stdout",
     "output_type": "stream",
     "text": [
      "Epoch 97:\n",
      "\t- loss_G: 10.170100199548822\n",
      "\t- loss_D: 0.27193903094920063\n"
     ]
    },
    {
     "data": {
      "application/vnd.jupyter.widget-view+json": {
       "model_id": "a62015617de54f769074427167566ce1",
       "version_major": 2,
       "version_minor": 0
      },
      "text/plain": [
       "batch: |          | 0/? [00:00<?, ?it/s]"
      ]
     },
     "metadata": {},
     "output_type": "display_data"
    },
    {
     "name": "stdout",
     "output_type": "stream",
     "text": [
      "Epoch 98:\n",
      "\t- loss_G: 10.178115645173\n",
      "\t- loss_D: 0.26479960132352137\n"
     ]
    },
    {
     "data": {
      "application/vnd.jupyter.widget-view+json": {
       "model_id": "690d5a9017e54d1ca6d6ea43f10f7954",
       "version_major": 2,
       "version_minor": 0
      },
      "text/plain": [
       "batch: |          | 0/? [00:00<?, ?it/s]"
      ]
     },
     "metadata": {},
     "output_type": "display_data"
    },
    {
     "name": "stdout",
     "output_type": "stream",
     "text": [
      "Epoch 99:\n",
      "\t- loss_G: 10.104988100235921\n",
      "\t- loss_D: 0.28234279117606886\n"
     ]
    },
    {
     "name": "stderr",
     "output_type": "stream",
     "text": [
      "Process Process-784:\n",
      "Process Process-767:\n",
      "Process Process-736:\n",
      "Process Process-744:\n",
      "Process Process-688:\n",
      "Process Process-783:\n",
      "Process Process-776:\n",
      "Process Process-781:\n",
      "Process Process-734:\n",
      "Process Process-686:\n",
      "Process Process-685:\n",
      "Process Process-733:\n",
      "Traceback (most recent call last):\n",
      "Process Process-656:\n",
      "Process Process-800:\n",
      "Process Process-584:\n",
      "Process Process-534:\n",
      "Process Process-735:\n",
      "Process Process-663:\n",
      "Process Process-576:\n",
      "Process Process-648:\n",
      "Process Process-488:\n",
      "Process Process-687:\n",
      "Process Process-768:\n",
      "Process Process-472:\n",
      "Process Process-496:\n",
      "Process Process-424:\n",
      "Process Process-328:\n",
      "Process Process-696:\n",
      "Process Process-440:\n",
      "Process Process-520:\n",
      "Process Process-608:\n",
      "Process Process-456:\n",
      "Process Process-782:\n",
      "Process Process-552:\n",
      "Process Process-712:\n",
      "  File \"/home/vvivanov/anaconda3/envs/i_am_something_of_a_painter_myself/lib/python3.9/multiprocessing/process.py\", line 318, in _bootstrap\n",
      "    util._exit_function()\n",
      "Traceback (most recent call last):\n",
      "Process Process-320:\n",
      "Traceback (most recent call last):\n",
      "Process Process-360:\n",
      "Traceback (most recent call last):\n",
      "Process Process-392:\n",
      "Traceback (most recent call last):\n",
      "Process Process-647:\n",
      "Traceback (most recent call last):\n",
      "Process Process-432:\n",
      "Traceback (most recent call last):\n",
      "Traceback (most recent call last):\n",
      "Process Process-592:\n",
      "Traceback (most recent call last):\n",
      "Traceback (most recent call last):\n",
      "Process Process-416:\n",
      "Traceback (most recent call last):\n",
      "Traceback (most recent call last):\n",
      "  File \"/home/vvivanov/anaconda3/envs/i_am_something_of_a_painter_myself/lib/python3.9/multiprocessing/process.py\", line 318, in _bootstrap\n",
      "    util._exit_function()\n",
      "  File \"/home/vvivanov/anaconda3/envs/i_am_something_of_a_painter_myself/lib/python3.9/multiprocessing/util.py\", line 360, in _exit_function\n",
      "    _run_finalizers()\n",
      "  File \"/home/vvivanov/anaconda3/envs/i_am_something_of_a_painter_myself/lib/python3.9/multiprocessing/process.py\", line 318, in _bootstrap\n",
      "    util._exit_function()\n",
      "Traceback (most recent call last):\n",
      "  File \"/home/vvivanov/anaconda3/envs/i_am_something_of_a_painter_myself/lib/python3.9/multiprocessing/process.py\", line 318, in _bootstrap\n",
      "    util._exit_function()\n",
      "Traceback (most recent call last):\n",
      "  File \"/home/vvivanov/anaconda3/envs/i_am_something_of_a_painter_myself/lib/python3.9/multiprocessing/process.py\", line 318, in _bootstrap\n",
      "    util._exit_function()\n",
      "  File \"/home/vvivanov/anaconda3/envs/i_am_something_of_a_painter_myself/lib/python3.9/multiprocessing/util.py\", line 360, in _exit_function\n",
      "    _run_finalizers()\n",
      "Traceback (most recent call last):\n",
      "Process Process-344:\n",
      "Traceback (most recent call last):\n",
      "Traceback (most recent call last):\n",
      "Traceback (most recent call last):\n",
      "Traceback (most recent call last):\n",
      "Process Process-598:\n",
      "Process Process-544:\n",
      "Process Process-655:\n",
      "Process Process-653:\n",
      "  File \"/home/vvivanov/anaconda3/envs/i_am_something_of_a_painter_myself/lib/python3.9/multiprocessing/util.py\", line 300, in _run_finalizers\n",
      "    finalizer()\n",
      "Traceback (most recent call last):\n",
      "  File \"/home/vvivanov/anaconda3/envs/i_am_something_of_a_painter_myself/lib/python3.9/multiprocessing/process.py\", line 318, in _bootstrap\n",
      "    util._exit_function()\n",
      "Process Process-480:\n",
      "Traceback (most recent call last):\n",
      "Process Process-336:\n",
      "  File \"/home/vvivanov/anaconda3/envs/i_am_something_of_a_painter_myself/lib/python3.9/multiprocessing/process.py\", line 318, in _bootstrap\n",
      "    util._exit_function()\n",
      "Traceback (most recent call last):\n",
      "Process Process-766:\n",
      "  File \"/home/vvivanov/anaconda3/envs/i_am_something_of_a_painter_myself/lib/python3.9/multiprocessing/util.py\", line 224, in __call__\n",
      "    res = self._callback(*self._args, **self._kwargs)\n",
      "Traceback (most recent call last):\n",
      "Traceback (most recent call last):\n",
      "  File \"/home/vvivanov/anaconda3/envs/i_am_something_of_a_painter_myself/lib/python3.9/multiprocessing/process.py\", line 318, in _bootstrap\n",
      "    util._exit_function()\n",
      "Traceback (most recent call last):\n",
      "  File \"/home/vvivanov/anaconda3/envs/i_am_something_of_a_painter_myself/lib/python3.9/multiprocessing/util.py\", line 300, in _run_finalizers\n",
      "    finalizer()\n",
      "  File \"/home/vvivanov/anaconda3/envs/i_am_something_of_a_painter_myself/lib/python3.9/multiprocessing/process.py\", line 318, in _bootstrap\n",
      "    util._exit_function()\n",
      "  File \"/home/vvivanov/anaconda3/envs/i_am_something_of_a_painter_myself/lib/python3.9/multiprocessing/process.py\", line 318, in _bootstrap\n",
      "    util._exit_function()\n",
      "  File \"/home/vvivanov/anaconda3/envs/i_am_something_of_a_painter_myself/lib/python3.9/multiprocessing/util.py\", line 360, in _exit_function\n",
      "    _run_finalizers()\n",
      "Traceback (most recent call last):\n",
      "  File \"/home/vvivanov/anaconda3/envs/i_am_something_of_a_painter_myself/lib/python3.9/multiprocessing/process.py\", line 318, in _bootstrap\n",
      "    util._exit_function()\n",
      "Traceback (most recent call last):\n",
      "Process Process-536:\n",
      "  File \"/home/vvivanov/anaconda3/envs/i_am_something_of_a_painter_myself/lib/python3.9/multiprocessing/process.py\", line 318, in _bootstrap\n",
      "    util._exit_function()\n",
      "Traceback (most recent call last):\n",
      "Traceback (most recent call last):\n",
      "Traceback (most recent call last):\n",
      "  File \"/home/vvivanov/anaconda3/envs/i_am_something_of_a_painter_myself/lib/python3.9/multiprocessing/util.py\", line 360, in _exit_function\n",
      "    _run_finalizers()\n",
      "  File \"/home/vvivanov/anaconda3/envs/i_am_something_of_a_painter_myself/lib/python3.9/multiprocessing/process.py\", line 318, in _bootstrap\n",
      "    util._exit_function()\n",
      "  File \"/home/vvivanov/anaconda3/envs/i_am_something_of_a_painter_myself/lib/python3.9/multiprocessing/util.py\", line 360, in _exit_function\n",
      "    _run_finalizers()\n",
      "  File \"/home/vvivanov/anaconda3/envs/i_am_something_of_a_painter_myself/lib/python3.9/multiprocessing/process.py\", line 318, in _bootstrap\n",
      "    util._exit_function()\n",
      "  File \"/home/vvivanov/anaconda3/envs/i_am_something_of_a_painter_myself/lib/python3.9/multiprocessing/util.py\", line 300, in _run_finalizers\n",
      "    finalizer()\n",
      "Traceback (most recent call last):\n",
      "  File \"/home/vvivanov/anaconda3/envs/i_am_something_of_a_painter_myself/lib/python3.9/multiprocessing/process.py\", line 318, in _bootstrap\n",
      "    util._exit_function()\n",
      "  File \"/home/vvivanov/anaconda3/envs/i_am_something_of_a_painter_myself/lib/python3.9/multiprocessing/process.py\", line 318, in _bootstrap\n",
      "    util._exit_function()\n",
      "Traceback (most recent call last):\n",
      "Traceback (most recent call last):\n",
      "Process Process-408:\n",
      "  File \"/home/vvivanov/anaconda3/envs/i_am_something_of_a_painter_myself/lib/python3.9/multiprocessing/process.py\", line 318, in _bootstrap\n",
      "    util._exit_function()\n",
      "  File \"/home/vvivanov/anaconda3/envs/i_am_something_of_a_painter_myself/lib/python3.9/multiprocessing/util.py\", line 360, in _exit_function\n",
      "    _run_finalizers()\n",
      "  File \"/home/vvivanov/anaconda3/envs/i_am_something_of_a_painter_myself/lib/python3.9/multiprocessing/util.py\", line 360, in _exit_function\n",
      "    _run_finalizers()\n",
      "  File \"/home/vvivanov/anaconda3/envs/i_am_something_of_a_painter_myself/lib/python3.9/multiprocessing/util.py\", line 224, in __call__\n",
      "    res = self._callback(*self._args, **self._kwargs)\n",
      "Traceback (most recent call last):\n",
      "  File \"/home/vvivanov/anaconda3/envs/i_am_something_of_a_painter_myself/lib/python3.9/multiprocessing/process.py\", line 318, in _bootstrap\n",
      "    util._exit_function()\n",
      "  File \"/home/vvivanov/anaconda3/envs/i_am_something_of_a_painter_myself/lib/python3.9/multiprocessing/util.py\", line 300, in _run_finalizers\n",
      "    finalizer()\n",
      "Traceback (most recent call last):\n",
      "  File \"/home/vvivanov/anaconda3/envs/i_am_something_of_a_painter_myself/lib/python3.9/multiprocessing/process.py\", line 318, in _bootstrap\n",
      "    util._exit_function()\n",
      "  File \"/home/vvivanov/anaconda3/envs/i_am_something_of_a_painter_myself/lib/python3.9/multiprocessing/util.py\", line 300, in _run_finalizers\n",
      "    finalizer()\n",
      "Process Process-654:\n",
      "  File \"/home/vvivanov/anaconda3/envs/i_am_something_of_a_painter_myself/lib/python3.9/multiprocessing/process.py\", line 318, in _bootstrap\n",
      "    util._exit_function()\n",
      "Traceback (most recent call last):\n",
      "  File \"/home/vvivanov/anaconda3/envs/i_am_something_of_a_painter_myself/lib/python3.9/multiprocessing/util.py\", line 360, in _exit_function\n",
      "    _run_finalizers()\n",
      "  File \"/home/vvivanov/anaconda3/envs/i_am_something_of_a_painter_myself/lib/python3.9/multiprocessing/process.py\", line 318, in _bootstrap\n",
      "    util._exit_function()\n"
     ]
    },
    {
     "name": "stderr",
     "output_type": "stream",
     "text": [
      "  File \"/home/vvivanov/anaconda3/envs/i_am_something_of_a_painter_myself/lib/python3.9/multiprocessing/util.py\", line 300, in _run_finalizers\n",
      "    finalizer()\n",
      "  File \"/home/vvivanov/anaconda3/envs/i_am_something_of_a_painter_myself/lib/python3.9/multiprocessing/process.py\", line 318, in _bootstrap\n",
      "    util._exit_function()\n",
      "Traceback (most recent call last):\n",
      "  File \"/home/vvivanov/anaconda3/envs/i_am_something_of_a_painter_myself/lib/python3.9/multiprocessing/util.py\", line 224, in __call__\n",
      "    res = self._callback(*self._args, **self._kwargs)\n",
      "  File \"/home/vvivanov/anaconda3/envs/i_am_something_of_a_painter_myself/lib/python3.9/multiprocessing/process.py\", line 318, in _bootstrap\n",
      "    util._exit_function()\n",
      "  File \"/home/vvivanov/anaconda3/envs/i_am_something_of_a_painter_myself/lib/python3.9/multiprocessing/process.py\", line 318, in _bootstrap\n",
      "    util._exit_function()\n",
      "  File \"/home/vvivanov/anaconda3/envs/i_am_something_of_a_painter_myself/lib/python3.9/multiprocessing/util.py\", line 360, in _exit_function\n",
      "    _run_finalizers()\n",
      "Process Process-664:\n",
      "  File \"/home/vvivanov/anaconda3/envs/i_am_something_of_a_painter_myself/lib/python3.9/multiprocessing/util.py\", line 360, in _exit_function\n",
      "    _run_finalizers()\n",
      "  File \"/home/vvivanov/anaconda3/envs/i_am_something_of_a_painter_myself/lib/python3.9/multiprocessing/util.py\", line 300, in _run_finalizers\n",
      "    finalizer()\n",
      "Process Process-661:\n",
      "Traceback (most recent call last):\n",
      "  File \"/home/vvivanov/anaconda3/envs/i_am_something_of_a_painter_myself/lib/python3.9/multiprocessing/util.py\", line 360, in _exit_function\n",
      "    _run_finalizers()\n",
      "  File \"/home/vvivanov/anaconda3/envs/i_am_something_of_a_painter_myself/lib/python3.9/multiprocessing/util.py\", line 360, in _exit_function\n",
      "    _run_finalizers()\n",
      "Traceback (most recent call last):\n",
      "Traceback (most recent call last):\n",
      "  File \"/home/vvivanov/anaconda3/envs/i_am_something_of_a_painter_myself/lib/python3.9/multiprocessing/util.py\", line 360, in _exit_function\n",
      "    _run_finalizers()\n",
      "Process Process-662:\n",
      "Process Process-646:\n",
      "  File \"/home/vvivanov/anaconda3/envs/i_am_something_of_a_painter_myself/lib/python3.9/multiprocessing/process.py\", line 318, in _bootstrap\n",
      "    util._exit_function()\n",
      "  File \"/home/vvivanov/anaconda3/envs/i_am_something_of_a_painter_myself/lib/python3.9/multiprocessing/process.py\", line 318, in _bootstrap\n",
      "    util._exit_function()\n",
      "  File \"/home/vvivanov/anaconda3/envs/i_am_something_of_a_painter_myself/lib/python3.9/multiprocessing/util.py\", line 224, in __call__\n",
      "    res = self._callback(*self._args, **self._kwargs)\n",
      "  File \"/home/vvivanov/anaconda3/envs/i_am_something_of_a_painter_myself/lib/python3.9/multiprocessing/queues.py\", line 201, in _finalize_join\n",
      "    thread.join()\n",
      "  File \"/home/vvivanov/anaconda3/envs/i_am_something_of_a_painter_myself/lib/python3.9/multiprocessing/queues.py\", line 201, in _finalize_join\n",
      "    thread.join()\n",
      "  File \"/home/vvivanov/anaconda3/envs/i_am_something_of_a_painter_myself/lib/python3.9/multiprocessing/util.py\", line 360, in _exit_function\n",
      "    _run_finalizers()\n",
      "  File \"/home/vvivanov/anaconda3/envs/i_am_something_of_a_painter_myself/lib/python3.9/multiprocessing/util.py\", line 224, in __call__\n",
      "    res = self._callback(*self._args, **self._kwargs)\n",
      "  File \"/home/vvivanov/anaconda3/envs/i_am_something_of_a_painter_myself/lib/python3.9/multiprocessing/process.py\", line 318, in _bootstrap\n",
      "    util._exit_function()\n",
      "  File \"/home/vvivanov/anaconda3/envs/i_am_something_of_a_painter_myself/lib/python3.9/multiprocessing/util.py\", line 360, in _exit_function\n",
      "    _run_finalizers()\n",
      "  File \"/home/vvivanov/anaconda3/envs/i_am_something_of_a_painter_myself/lib/python3.9/multiprocessing/util.py\", line 360, in _exit_function\n",
      "    _run_finalizers()\n",
      "  File \"/home/vvivanov/anaconda3/envs/i_am_something_of_a_painter_myself/lib/python3.9/multiprocessing/util.py\", line 300, in _run_finalizers\n",
      "    finalizer()\n",
      "Traceback (most recent call last):\n",
      "  File \"/home/vvivanov/anaconda3/envs/i_am_something_of_a_painter_myself/lib/python3.9/multiprocessing/process.py\", line 318, in _bootstrap\n",
      "    util._exit_function()\n",
      "  File \"/home/vvivanov/anaconda3/envs/i_am_something_of_a_painter_myself/lib/python3.9/multiprocessing/util.py\", line 300, in _run_finalizers\n",
      "    finalizer()\n",
      "  File \"/home/vvivanov/anaconda3/envs/i_am_something_of_a_painter_myself/lib/python3.9/multiprocessing/util.py\", line 300, in _run_finalizers\n",
      "    finalizer()\n",
      "Traceback (most recent call last):\n",
      "  File \"/home/vvivanov/anaconda3/envs/i_am_something_of_a_painter_myself/lib/python3.9/multiprocessing/util.py\", line 360, in _exit_function\n",
      "    _run_finalizers()\n",
      "  File \"/home/vvivanov/anaconda3/envs/i_am_something_of_a_painter_myself/lib/python3.9/multiprocessing/process.py\", line 318, in _bootstrap\n",
      "    util._exit_function()\n",
      "  File \"/home/vvivanov/anaconda3/envs/i_am_something_of_a_painter_myself/lib/python3.9/multiprocessing/util.py\", line 300, in _run_finalizers\n",
      "    finalizer()\n",
      "  File \"/home/vvivanov/anaconda3/envs/i_am_something_of_a_painter_myself/lib/python3.9/multiprocessing/util.py\", line 360, in _exit_function\n",
      "    _run_finalizers()\n",
      "  File \"/home/vvivanov/anaconda3/envs/i_am_something_of_a_painter_myself/lib/python3.9/multiprocessing/process.py\", line 318, in _bootstrap\n",
      "    util._exit_function()\n",
      "  File \"/home/vvivanov/anaconda3/envs/i_am_something_of_a_painter_myself/lib/python3.9/multiprocessing/process.py\", line 318, in _bootstrap\n",
      "    util._exit_function()\n",
      "  File \"/home/vvivanov/anaconda3/envs/i_am_something_of_a_painter_myself/lib/python3.9/multiprocessing/util.py\", line 360, in _exit_function\n",
      "    _run_finalizers()\n",
      "Traceback (most recent call last):\n",
      "  File \"/home/vvivanov/anaconda3/envs/i_am_something_of_a_painter_myself/lib/python3.9/multiprocessing/queues.py\", line 201, in _finalize_join\n",
      "    thread.join()\n",
      "  File \"/home/vvivanov/anaconda3/envs/i_am_something_of_a_painter_myself/lib/python3.9/threading.py\", line 1033, in join\n",
      "    self._wait_for_tstate_lock()\n",
      "  File \"/home/vvivanov/anaconda3/envs/i_am_something_of_a_painter_myself/lib/python3.9/multiprocessing/process.py\", line 318, in _bootstrap\n",
      "    util._exit_function()\n",
      "  File \"/home/vvivanov/anaconda3/envs/i_am_something_of_a_painter_myself/lib/python3.9/multiprocessing/process.py\", line 318, in _bootstrap\n",
      "    util._exit_function()\n",
      "Process Process-400:\n",
      "  File \"/home/vvivanov/anaconda3/envs/i_am_something_of_a_painter_myself/lib/python3.9/multiprocessing/queues.py\", line 201, in _finalize_join\n",
      "    thread.join()\n",
      "  File \"/home/vvivanov/anaconda3/envs/i_am_something_of_a_painter_myself/lib/python3.9/multiprocessing/util.py\", line 360, in _exit_function\n",
      "    _run_finalizers()\n",
      "  File \"/home/vvivanov/anaconda3/envs/i_am_something_of_a_painter_myself/lib/python3.9/multiprocessing/process.py\", line 318, in _bootstrap\n",
      "    util._exit_function()\n",
      "Traceback (most recent call last):\n",
      "Traceback (most recent call last):\n",
      "  File \"/home/vvivanov/anaconda3/envs/i_am_something_of_a_painter_myself/lib/python3.9/multiprocessing/util.py\", line 300, in _run_finalizers\n",
      "    finalizer()\n",
      "  File \"/home/vvivanov/anaconda3/envs/i_am_something_of_a_painter_myself/lib/python3.9/multiprocessing/util.py\", line 224, in __call__\n",
      "    res = self._callback(*self._args, **self._kwargs)\n",
      "  File \"/home/vvivanov/anaconda3/envs/i_am_something_of_a_painter_myself/lib/python3.9/multiprocessing/util.py\", line 300, in _run_finalizers\n",
      "    finalizer()\n",
      "  File \"/home/vvivanov/anaconda3/envs/i_am_something_of_a_painter_myself/lib/python3.9/multiprocessing/util.py\", line 360, in _exit_function\n",
      "    _run_finalizers()\n",
      "  File \"/home/vvivanov/anaconda3/envs/i_am_something_of_a_painter_myself/lib/python3.9/multiprocessing/process.py\", line 318, in _bootstrap\n",
      "    util._exit_function()\n",
      "  File \"/home/vvivanov/anaconda3/envs/i_am_something_of_a_painter_myself/lib/python3.9/multiprocessing/process.py\", line 318, in _bootstrap\n",
      "    util._exit_function()\n",
      "  File \"/home/vvivanov/anaconda3/envs/i_am_something_of_a_painter_myself/lib/python3.9/multiprocessing/util.py\", line 360, in _exit_function\n",
      "    _run_finalizers()\n",
      "  File \"/home/vvivanov/anaconda3/envs/i_am_something_of_a_painter_myself/lib/python3.9/multiprocessing/util.py\", line 224, in __call__\n",
      "    res = self._callback(*self._args, **self._kwargs)\n"
     ]
    },
    {
     "name": "stderr",
     "output_type": "stream",
     "text": [
      "  File \"/home/vvivanov/anaconda3/envs/i_am_something_of_a_painter_myself/lib/python3.9/multiprocessing/util.py\", line 224, in __call__\n",
      "    res = self._callback(*self._args, **self._kwargs)\n",
      "  File \"/home/vvivanov/anaconda3/envs/i_am_something_of_a_painter_myself/lib/python3.9/multiprocessing/util.py\", line 300, in _run_finalizers\n",
      "    finalizer()\n",
      "  File \"/home/vvivanov/anaconda3/envs/i_am_something_of_a_painter_myself/lib/python3.9/multiprocessing/util.py\", line 300, in _run_finalizers\n",
      "    finalizer()\n",
      "  File \"/home/vvivanov/anaconda3/envs/i_am_something_of_a_painter_myself/lib/python3.9/multiprocessing/process.py\", line 318, in _bootstrap\n",
      "    util._exit_function()\n",
      "  File \"/home/vvivanov/anaconda3/envs/i_am_something_of_a_painter_myself/lib/python3.9/threading.py\", line 1033, in join\n",
      "    self._wait_for_tstate_lock()\n",
      "  File \"/home/vvivanov/anaconda3/envs/i_am_something_of_a_painter_myself/lib/python3.9/multiprocessing/util.py\", line 360, in _exit_function\n",
      "    _run_finalizers()\n",
      "Traceback (most recent call last):\n",
      "  File \"/home/vvivanov/anaconda3/envs/i_am_something_of_a_painter_myself/lib/python3.9/multiprocessing/util.py\", line 360, in _exit_function\n",
      "    _run_finalizers()\n",
      "  File \"/home/vvivanov/anaconda3/envs/i_am_something_of_a_painter_myself/lib/python3.9/multiprocessing/util.py\", line 360, in _exit_function\n",
      "    _run_finalizers()\n",
      "  File \"/home/vvivanov/anaconda3/envs/i_am_something_of_a_painter_myself/lib/python3.9/multiprocessing/util.py\", line 300, in _run_finalizers\n",
      "    finalizer()\n",
      "  File \"/home/vvivanov/anaconda3/envs/i_am_something_of_a_painter_myself/lib/python3.9/multiprocessing/util.py\", line 300, in _run_finalizers\n",
      "    finalizer()\n",
      "  File \"/home/vvivanov/anaconda3/envs/i_am_something_of_a_painter_myself/lib/python3.9/multiprocessing/util.py\", line 360, in _exit_function\n",
      "    _run_finalizers()\n",
      "  File \"/home/vvivanov/anaconda3/envs/i_am_something_of_a_painter_myself/lib/python3.9/multiprocessing/util.py\", line 300, in _run_finalizers\n",
      "    finalizer()\n",
      "  File \"/home/vvivanov/anaconda3/envs/i_am_something_of_a_painter_myself/lib/python3.9/multiprocessing/util.py\", line 360, in _exit_function\n",
      "    _run_finalizers()\n",
      "  File \"/home/vvivanov/anaconda3/envs/i_am_something_of_a_painter_myself/lib/python3.9/multiprocessing/util.py\", line 224, in __call__\n",
      "    res = self._callback(*self._args, **self._kwargs)\n",
      "  File \"/home/vvivanov/anaconda3/envs/i_am_something_of_a_painter_myself/lib/python3.9/multiprocessing/util.py\", line 360, in _exit_function\n",
      "    _run_finalizers()\n",
      "  File \"/home/vvivanov/anaconda3/envs/i_am_something_of_a_painter_myself/lib/python3.9/multiprocessing/util.py\", line 224, in __call__\n",
      "    res = self._callback(*self._args, **self._kwargs)\n",
      "  File \"/home/vvivanov/anaconda3/envs/i_am_something_of_a_painter_myself/lib/python3.9/multiprocessing/process.py\", line 318, in _bootstrap\n",
      "    util._exit_function()\n",
      "  File \"/home/vvivanov/anaconda3/envs/i_am_something_of_a_painter_myself/lib/python3.9/multiprocessing/util.py\", line 360, in _exit_function\n",
      "    _run_finalizers()\n",
      "  File \"/home/vvivanov/anaconda3/envs/i_am_something_of_a_painter_myself/lib/python3.9/multiprocessing/util.py\", line 360, in _exit_function\n",
      "    _run_finalizers()\n",
      "  File \"/home/vvivanov/anaconda3/envs/i_am_something_of_a_painter_myself/lib/python3.9/multiprocessing/queues.py\", line 201, in _finalize_join\n",
      "    thread.join()\n",
      "  File \"/home/vvivanov/anaconda3/envs/i_am_something_of_a_painter_myself/lib/python3.9/multiprocessing/process.py\", line 318, in _bootstrap\n",
      "    util._exit_function()\n",
      "  File \"/home/vvivanov/anaconda3/envs/i_am_something_of_a_painter_myself/lib/python3.9/multiprocessing/util.py\", line 300, in _run_finalizers\n",
      "    finalizer()\n",
      "  File \"/home/vvivanov/anaconda3/envs/i_am_something_of_a_painter_myself/lib/python3.9/multiprocessing/queues.py\", line 201, in _finalize_join\n",
      "    thread.join()\n",
      "Traceback (most recent call last):\n",
      "  File \"/home/vvivanov/anaconda3/envs/i_am_something_of_a_painter_myself/lib/python3.9/multiprocessing/util.py\", line 224, in __call__\n",
      "    res = self._callback(*self._args, **self._kwargs)\n",
      "  File \"/home/vvivanov/anaconda3/envs/i_am_something_of_a_painter_myself/lib/python3.9/threading.py\", line 1033, in join\n",
      "    self._wait_for_tstate_lock()\n",
      "  File \"/home/vvivanov/anaconda3/envs/i_am_something_of_a_painter_myself/lib/python3.9/multiprocessing/process.py\", line 318, in _bootstrap\n",
      "    util._exit_function()\n",
      "Traceback (most recent call last):\n",
      "  File \"/home/vvivanov/anaconda3/envs/i_am_something_of_a_painter_myself/lib/python3.9/threading.py\", line 1049, in _wait_for_tstate_lock\n",
      "    elif lock.acquire(block, timeout):\n",
      "  File \"/home/vvivanov/anaconda3/envs/i_am_something_of_a_painter_myself/lib/python3.9/multiprocessing/util.py\", line 224, in __call__\n",
      "    res = self._callback(*self._args, **self._kwargs)\n",
      "  File \"/home/vvivanov/anaconda3/envs/i_am_something_of_a_painter_myself/lib/python3.9/multiprocessing/util.py\", line 300, in _run_finalizers\n",
      "    finalizer()\n",
      "Process Process-632:\n",
      "  File \"/home/vvivanov/anaconda3/envs/i_am_something_of_a_painter_myself/lib/python3.9/multiprocessing/util.py\", line 224, in __call__\n",
      "    res = self._callback(*self._args, **self._kwargs)\n",
      "  File \"/home/vvivanov/anaconda3/envs/i_am_something_of_a_painter_myself/lib/python3.9/multiprocessing/util.py\", line 300, in _run_finalizers\n",
      "    finalizer()\n",
      "  File \"/home/vvivanov/anaconda3/envs/i_am_something_of_a_painter_myself/lib/python3.9/multiprocessing/util.py\", line 300, in _run_finalizers\n",
      "    finalizer()\n",
      "  File \"/home/vvivanov/anaconda3/envs/i_am_something_of_a_painter_myself/lib/python3.9/multiprocessing/util.py\", line 360, in _exit_function\n",
      "    _run_finalizers()\n",
      "  File \"/home/vvivanov/anaconda3/envs/i_am_something_of_a_painter_myself/lib/python3.9/multiprocessing/process.py\", line 318, in _bootstrap\n",
      "    util._exit_function()\n",
      "  File \"/home/vvivanov/anaconda3/envs/i_am_something_of_a_painter_myself/lib/python3.9/multiprocessing/util.py\", line 300, in _run_finalizers\n",
      "    finalizer()\n",
      "  File \"/home/vvivanov/anaconda3/envs/i_am_something_of_a_painter_myself/lib/python3.9/multiprocessing/util.py\", line 224, in __call__\n",
      "    res = self._callback(*self._args, **self._kwargs)\n",
      "  File \"/home/vvivanov/anaconda3/envs/i_am_something_of_a_painter_myself/lib/python3.9/multiprocessing/util.py\", line 300, in _run_finalizers\n",
      "    finalizer()\n",
      "  File \"/home/vvivanov/anaconda3/envs/i_am_something_of_a_painter_myself/lib/python3.9/threading.py\", line 1049, in _wait_for_tstate_lock\n",
      "    elif lock.acquire(block, timeout):\n",
      "  File \"/home/vvivanov/anaconda3/envs/i_am_something_of_a_painter_myself/lib/python3.9/multiprocessing/process.py\", line 318, in _bootstrap\n",
      "    util._exit_function()\n",
      "  File \"/home/vvivanov/anaconda3/envs/i_am_something_of_a_painter_myself/lib/python3.9/multiprocessing/util.py\", line 360, in _exit_function\n",
      "    _run_finalizers()\n",
      "  File \"/home/vvivanov/anaconda3/envs/i_am_something_of_a_painter_myself/lib/python3.9/multiprocessing/queues.py\", line 201, in _finalize_join\n",
      "    thread.join()\n",
      "  File \"/home/vvivanov/anaconda3/envs/i_am_something_of_a_painter_myself/lib/python3.9/threading.py\", line 1033, in join\n",
      "    self._wait_for_tstate_lock()\n",
      "  File \"/home/vvivanov/anaconda3/envs/i_am_something_of_a_painter_myself/lib/python3.9/multiprocessing/queues.py\", line 201, in _finalize_join\n",
      "    thread.join()\n",
      "  File \"/home/vvivanov/anaconda3/envs/i_am_something_of_a_painter_myself/lib/python3.9/multiprocessing/util.py\", line 360, in _exit_function\n",
      "    _run_finalizers()\n",
      "  File \"/home/vvivanov/anaconda3/envs/i_am_something_of_a_painter_myself/lib/python3.9/multiprocessing/util.py\", line 224, in __call__\n",
      "    res = self._callback(*self._args, **self._kwargs)\n",
      "  File \"/home/vvivanov/anaconda3/envs/i_am_something_of_a_painter_myself/lib/python3.9/multiprocessing/queues.py\", line 201, in _finalize_join\n",
      "    thread.join()\n",
      "  File \"/home/vvivanov/anaconda3/envs/i_am_something_of_a_painter_myself/lib/python3.9/threading.py\", line 1033, in join\n",
      "    self._wait_for_tstate_lock()\n",
      "  File \"/home/vvivanov/anaconda3/envs/i_am_something_of_a_painter_myself/lib/python3.9/multiprocessing/process.py\", line 318, in _bootstrap\n",
      "    util._exit_function()\n",
      "  File \"/home/vvivanov/anaconda3/envs/i_am_something_of_a_painter_myself/lib/python3.9/multiprocessing/process.py\", line 318, in _bootstrap\n",
      "    util._exit_function()\n"
     ]
    },
    {
     "name": "stderr",
     "output_type": "stream",
     "text": [
      "  File \"/home/vvivanov/anaconda3/envs/i_am_something_of_a_painter_myself/lib/python3.9/multiprocessing/util.py\", line 360, in _exit_function\n",
      "    _run_finalizers()\n",
      "  File \"/home/vvivanov/anaconda3/envs/i_am_something_of_a_painter_myself/lib/python3.9/multiprocessing/queues.py\", line 201, in _finalize_join\n",
      "    thread.join()\n",
      "  File \"/home/vvivanov/anaconda3/envs/i_am_something_of_a_painter_myself/lib/python3.9/multiprocessing/util.py\", line 360, in _exit_function\n",
      "    _run_finalizers()\n",
      "Traceback (most recent call last):\n",
      "  File \"/home/vvivanov/anaconda3/envs/i_am_something_of_a_painter_myself/lib/python3.9/multiprocessing/util.py\", line 360, in _exit_function\n",
      "    _run_finalizers()\n",
      "  File \"/home/vvivanov/anaconda3/envs/i_am_something_of_a_painter_myself/lib/python3.9/multiprocessing/util.py\", line 224, in __call__\n",
      "    res = self._callback(*self._args, **self._kwargs)\n",
      "  File \"/home/vvivanov/anaconda3/envs/i_am_something_of_a_painter_myself/lib/python3.9/multiprocessing/process.py\", line 318, in _bootstrap\n",
      "    util._exit_function()\n",
      "  File \"/home/vvivanov/anaconda3/envs/i_am_something_of_a_painter_myself/lib/python3.9/multiprocessing/util.py\", line 360, in _exit_function\n",
      "    _run_finalizers()\n",
      "  File \"/home/vvivanov/anaconda3/envs/i_am_something_of_a_painter_myself/lib/python3.9/multiprocessing/util.py\", line 360, in _exit_function\n",
      "    _run_finalizers()\n",
      "Traceback (most recent call last):\n",
      "  File \"/home/vvivanov/anaconda3/envs/i_am_something_of_a_painter_myself/lib/python3.9/threading.py\", line 1033, in join\n",
      "    self._wait_for_tstate_lock()\n",
      "  File \"/home/vvivanov/anaconda3/envs/i_am_something_of_a_painter_myself/lib/python3.9/multiprocessing/util.py\", line 224, in __call__\n",
      "    res = self._callback(*self._args, **self._kwargs)\n",
      "  File \"/home/vvivanov/anaconda3/envs/i_am_something_of_a_painter_myself/lib/python3.9/multiprocessing/util.py\", line 224, in __call__\n",
      "    res = self._callback(*self._args, **self._kwargs)\n",
      "  File \"/home/vvivanov/anaconda3/envs/i_am_something_of_a_painter_myself/lib/python3.9/multiprocessing/util.py\", line 224, in __call__\n",
      "    res = self._callback(*self._args, **self._kwargs)\n",
      "  File \"/home/vvivanov/anaconda3/envs/i_am_something_of_a_painter_myself/lib/python3.9/multiprocessing/util.py\", line 300, in _run_finalizers\n",
      "    finalizer()\n",
      "  File \"/home/vvivanov/anaconda3/envs/i_am_something_of_a_painter_myself/lib/python3.9/multiprocessing/queues.py\", line 201, in _finalize_join\n",
      "    thread.join()\n",
      "  File \"/home/vvivanov/anaconda3/envs/i_am_something_of_a_painter_myself/lib/python3.9/multiprocessing/util.py\", line 300, in _run_finalizers\n",
      "    finalizer()\n",
      "  File \"/home/vvivanov/anaconda3/envs/i_am_something_of_a_painter_myself/lib/python3.9/multiprocessing/util.py\", line 224, in __call__\n",
      "    res = self._callback(*self._args, **self._kwargs)\n",
      "  File \"/home/vvivanov/anaconda3/envs/i_am_something_of_a_painter_myself/lib/python3.9/multiprocessing/util.py\", line 360, in _exit_function\n",
      "    _run_finalizers()\n",
      "  File \"/home/vvivanov/anaconda3/envs/i_am_something_of_a_painter_myself/lib/python3.9/multiprocessing/util.py\", line 300, in _run_finalizers\n",
      "    finalizer()\n",
      "  File \"/home/vvivanov/anaconda3/envs/i_am_something_of_a_painter_myself/lib/python3.9/multiprocessing/util.py\", line 360, in _exit_function\n",
      "    _run_finalizers()\n",
      "  File \"/home/vvivanov/anaconda3/envs/i_am_something_of_a_painter_myself/lib/python3.9/multiprocessing/util.py\", line 360, in _exit_function\n",
      "    _run_finalizers()\n",
      "  File \"/home/vvivanov/anaconda3/envs/i_am_something_of_a_painter_myself/lib/python3.9/multiprocessing/util.py\", line 224, in __call__\n",
      "    res = self._callback(*self._args, **self._kwargs)\n",
      "  File \"/home/vvivanov/anaconda3/envs/i_am_something_of_a_painter_myself/lib/python3.9/threading.py\", line 1049, in _wait_for_tstate_lock\n",
      "    elif lock.acquire(block, timeout):\n",
      "  File \"/home/vvivanov/anaconda3/envs/i_am_something_of_a_painter_myself/lib/python3.9/threading.py\", line 1033, in join\n",
      "    self._wait_for_tstate_lock()\n",
      "  File \"/home/vvivanov/anaconda3/envs/i_am_something_of_a_painter_myself/lib/python3.9/threading.py\", line 1033, in join\n",
      "    self._wait_for_tstate_lock()\n",
      "  File \"/home/vvivanov/anaconda3/envs/i_am_something_of_a_painter_myself/lib/python3.9/multiprocessing/queues.py\", line 201, in _finalize_join\n",
      "    thread.join()\n",
      "  File \"/home/vvivanov/anaconda3/envs/i_am_something_of_a_painter_myself/lib/python3.9/threading.py\", line 1033, in join\n",
      "    self._wait_for_tstate_lock()\n",
      "  File \"/home/vvivanov/anaconda3/envs/i_am_something_of_a_painter_myself/lib/python3.9/multiprocessing/util.py\", line 224, in __call__\n",
      "    res = self._callback(*self._args, **self._kwargs)\n",
      "  File \"/home/vvivanov/anaconda3/envs/i_am_something_of_a_painter_myself/lib/python3.9/multiprocessing/util.py\", line 300, in _run_finalizers\n",
      "    finalizer()\n",
      "  File \"/home/vvivanov/anaconda3/envs/i_am_something_of_a_painter_myself/lib/python3.9/multiprocessing/util.py\", line 224, in __call__\n",
      "    res = self._callback(*self._args, **self._kwargs)\n",
      "  File \"/home/vvivanov/anaconda3/envs/i_am_something_of_a_painter_myself/lib/python3.9/multiprocessing/util.py\", line 300, in _run_finalizers\n",
      "    finalizer()\n",
      "  File \"/home/vvivanov/anaconda3/envs/i_am_something_of_a_painter_myself/lib/python3.9/multiprocessing/util.py\", line 300, in _run_finalizers\n",
      "    finalizer()\n",
      "  File \"/home/vvivanov/anaconda3/envs/i_am_something_of_a_painter_myself/lib/python3.9/multiprocessing/util.py\", line 300, in _run_finalizers\n",
      "    finalizer()\n",
      "  File \"/home/vvivanov/anaconda3/envs/i_am_something_of_a_painter_myself/lib/python3.9/threading.py\", line 1049, in _wait_for_tstate_lock\n",
      "    elif lock.acquire(block, timeout):\n",
      "  File \"/home/vvivanov/anaconda3/envs/i_am_something_of_a_painter_myself/lib/python3.9/multiprocessing/queues.py\", line 201, in _finalize_join\n",
      "    thread.join()\n",
      "KeyboardInterrupt\n",
      "  File \"/home/vvivanov/anaconda3/envs/i_am_something_of_a_painter_myself/lib/python3.9/multiprocessing/queues.py\", line 201, in _finalize_join\n",
      "    thread.join()\n",
      "  File \"/home/vvivanov/anaconda3/envs/i_am_something_of_a_painter_myself/lib/python3.9/multiprocessing/queues.py\", line 201, in _finalize_join\n",
      "    thread.join()\n",
      "  File \"/home/vvivanov/anaconda3/envs/i_am_something_of_a_painter_myself/lib/python3.9/multiprocessing/util.py\", line 360, in _exit_function\n",
      "    _run_finalizers()\n",
      "  File \"/home/vvivanov/anaconda3/envs/i_am_something_of_a_painter_myself/lib/python3.9/multiprocessing/process.py\", line 318, in _bootstrap\n",
      "    util._exit_function()\n",
      "  File \"/home/vvivanov/anaconda3/envs/i_am_something_of_a_painter_myself/lib/python3.9/multiprocessing/queues.py\", line 201, in _finalize_join\n",
      "    thread.join()\n",
      "  File \"/home/vvivanov/anaconda3/envs/i_am_something_of_a_painter_myself/lib/python3.9/multiprocessing/util.py\", line 224, in __call__\n",
      "    res = self._callback(*self._args, **self._kwargs)\n",
      "  File \"/home/vvivanov/anaconda3/envs/i_am_something_of_a_painter_myself/lib/python3.9/multiprocessing/util.py\", line 300, in _run_finalizers\n",
      "    finalizer()\n",
      "  File \"/home/vvivanov/anaconda3/envs/i_am_something_of_a_painter_myself/lib/python3.9/threading.py\", line 1033, in join\n",
      "    self._wait_for_tstate_lock()\n",
      "  File \"/home/vvivanov/anaconda3/envs/i_am_something_of_a_painter_myself/lib/python3.9/multiprocessing/util.py\", line 224, in __call__\n",
      "    res = self._callback(*self._args, **self._kwargs)\n",
      "  File \"/home/vvivanov/anaconda3/envs/i_am_something_of_a_painter_myself/lib/python3.9/multiprocessing/util.py\", line 360, in _exit_function\n",
      "    _run_finalizers()\n",
      "  File \"/home/vvivanov/anaconda3/envs/i_am_something_of_a_painter_myself/lib/python3.9/threading.py\", line 1033, in join\n",
      "    self._wait_for_tstate_lock()\n",
      "  File \"/home/vvivanov/anaconda3/envs/i_am_something_of_a_painter_myself/lib/python3.9/multiprocessing/queues.py\", line 201, in _finalize_join\n",
      "    thread.join()\n",
      "  File \"/home/vvivanov/anaconda3/envs/i_am_something_of_a_painter_myself/lib/python3.9/threading.py\", line 1049, in _wait_for_tstate_lock\n",
      "    elif lock.acquire(block, timeout):\n",
      "  File \"/home/vvivanov/anaconda3/envs/i_am_something_of_a_painter_myself/lib/python3.9/multiprocessing/util.py\", line 300, in _run_finalizers\n",
      "    finalizer()\n",
      "KeyboardInterrupt\n",
      "  File \"/home/vvivanov/anaconda3/envs/i_am_something_of_a_painter_myself/lib/python3.9/multiprocessing/queues.py\", line 201, in _finalize_join\n",
      "    thread.join()\n"
     ]
    },
    {
     "name": "stderr",
     "output_type": "stream",
     "text": [
      "  File \"/home/vvivanov/anaconda3/envs/i_am_something_of_a_painter_myself/lib/python3.9/multiprocessing/queues.py\", line 201, in _finalize_join\n",
      "    thread.join()\n",
      "  File \"/home/vvivanov/anaconda3/envs/i_am_something_of_a_painter_myself/lib/python3.9/threading.py\", line 1049, in _wait_for_tstate_lock\n",
      "    elif lock.acquire(block, timeout):\n",
      "Traceback (most recent call last):\n",
      "  File \"/home/vvivanov/anaconda3/envs/i_am_something_of_a_painter_myself/lib/python3.9/multiprocessing/util.py\", line 300, in _run_finalizers\n",
      "    finalizer()\n",
      "  File \"/home/vvivanov/anaconda3/envs/i_am_something_of_a_painter_myself/lib/python3.9/multiprocessing/util.py\", line 360, in _exit_function\n",
      "    _run_finalizers()\n",
      "  File \"/home/vvivanov/anaconda3/envs/i_am_something_of_a_painter_myself/lib/python3.9/multiprocessing/util.py\", line 224, in __call__\n",
      "    res = self._callback(*self._args, **self._kwargs)\n",
      "  File \"/home/vvivanov/anaconda3/envs/i_am_something_of_a_painter_myself/lib/python3.9/threading.py\", line 1033, in join\n",
      "    self._wait_for_tstate_lock()\n",
      "  File \"/home/vvivanov/anaconda3/envs/i_am_something_of_a_painter_myself/lib/python3.9/multiprocessing/util.py\", line 224, in __call__\n",
      "    res = self._callback(*self._args, **self._kwargs)\n",
      "  File \"/home/vvivanov/anaconda3/envs/i_am_something_of_a_painter_myself/lib/python3.9/threading.py\", line 1033, in join\n",
      "    self._wait_for_tstate_lock()\n",
      "  File \"/home/vvivanov/anaconda3/envs/i_am_something_of_a_painter_myself/lib/python3.9/multiprocessing/util.py\", line 360, in _exit_function\n",
      "    _run_finalizers()\n",
      "  File \"/home/vvivanov/anaconda3/envs/i_am_something_of_a_painter_myself/lib/python3.9/multiprocessing/queues.py\", line 201, in _finalize_join\n",
      "    thread.join()\n",
      "KeyboardInterrupt\n",
      "  File \"/home/vvivanov/anaconda3/envs/i_am_something_of_a_painter_myself/lib/python3.9/multiprocessing/util.py\", line 300, in _run_finalizers\n",
      "    finalizer()\n",
      "  File \"/home/vvivanov/anaconda3/envs/i_am_something_of_a_painter_myself/lib/python3.9/multiprocessing/util.py\", line 224, in __call__\n",
      "    res = self._callback(*self._args, **self._kwargs)\n",
      "  File \"/home/vvivanov/anaconda3/envs/i_am_something_of_a_painter_myself/lib/python3.9/multiprocessing/util.py\", line 224, in __call__\n",
      "    res = self._callback(*self._args, **self._kwargs)\n",
      "  File \"/home/vvivanov/anaconda3/envs/i_am_something_of_a_painter_myself/lib/python3.9/multiprocessing/queues.py\", line 201, in _finalize_join\n",
      "    thread.join()\n",
      "  File \"/home/vvivanov/anaconda3/envs/i_am_something_of_a_painter_myself/lib/python3.9/multiprocessing/util.py\", line 224, in __call__\n",
      "    res = self._callback(*self._args, **self._kwargs)\n",
      "  File \"/home/vvivanov/anaconda3/envs/i_am_something_of_a_painter_myself/lib/python3.9/threading.py\", line 1049, in _wait_for_tstate_lock\n",
      "    elif lock.acquire(block, timeout):\n",
      "  File \"/home/vvivanov/anaconda3/envs/i_am_something_of_a_painter_myself/lib/python3.9/multiprocessing/util.py\", line 300, in _run_finalizers\n",
      "    finalizer()\n",
      "  File \"/home/vvivanov/anaconda3/envs/i_am_something_of_a_painter_myself/lib/python3.9/threading.py\", line 1049, in _wait_for_tstate_lock\n",
      "    elif lock.acquire(block, timeout):\n",
      "  File \"/home/vvivanov/anaconda3/envs/i_am_something_of_a_painter_myself/lib/python3.9/threading.py\", line 1033, in join\n",
      "    self._wait_for_tstate_lock()\n",
      "KeyboardInterrupt\n",
      "  File \"/home/vvivanov/anaconda3/envs/i_am_something_of_a_painter_myself/lib/python3.9/multiprocessing/util.py\", line 300, in _run_finalizers\n",
      "    finalizer()\n",
      "  File \"/home/vvivanov/anaconda3/envs/i_am_something_of_a_painter_myself/lib/python3.9/multiprocessing/util.py\", line 224, in __call__\n",
      "    res = self._callback(*self._args, **self._kwargs)\n",
      "  File \"/home/vvivanov/anaconda3/envs/i_am_something_of_a_painter_myself/lib/python3.9/multiprocessing/util.py\", line 224, in __call__\n",
      "    res = self._callback(*self._args, **self._kwargs)\n",
      "  File \"/home/vvivanov/anaconda3/envs/i_am_something_of_a_painter_myself/lib/python3.9/threading.py\", line 1049, in _wait_for_tstate_lock\n",
      "    elif lock.acquire(block, timeout):\n",
      "  File \"/home/vvivanov/anaconda3/envs/i_am_something_of_a_painter_myself/lib/python3.9/multiprocessing/process.py\", line 318, in _bootstrap\n",
      "    util._exit_function()\n",
      "  File \"/home/vvivanov/anaconda3/envs/i_am_something_of_a_painter_myself/lib/python3.9/threading.py\", line 1049, in _wait_for_tstate_lock\n",
      "    elif lock.acquire(block, timeout):\n",
      "KeyboardInterrupt\n",
      "  File \"/home/vvivanov/anaconda3/envs/i_am_something_of_a_painter_myself/lib/python3.9/multiprocessing/util.py\", line 224, in __call__\n",
      "    res = self._callback(*self._args, **self._kwargs)\n",
      "  File \"/home/vvivanov/anaconda3/envs/i_am_something_of_a_painter_myself/lib/python3.9/multiprocessing/queues.py\", line 201, in _finalize_join\n",
      "    thread.join()\n",
      "  File \"/home/vvivanov/anaconda3/envs/i_am_something_of_a_painter_myself/lib/python3.9/multiprocessing/process.py\", line 318, in _bootstrap\n",
      "    util._exit_function()\n",
      "  File \"/home/vvivanov/anaconda3/envs/i_am_something_of_a_painter_myself/lib/python3.9/multiprocessing/util.py\", line 300, in _run_finalizers\n",
      "    finalizer()\n",
      "  File \"/home/vvivanov/anaconda3/envs/i_am_something_of_a_painter_myself/lib/python3.9/multiprocessing/util.py\", line 300, in _run_finalizers\n",
      "    finalizer()\n",
      "  File \"/home/vvivanov/anaconda3/envs/i_am_something_of_a_painter_myself/lib/python3.9/multiprocessing/process.py\", line 318, in _bootstrap\n",
      "    util._exit_function()\n",
      "KeyboardInterrupt\n",
      "  File \"/home/vvivanov/anaconda3/envs/i_am_something_of_a_painter_myself/lib/python3.9/multiprocessing/queues.py\", line 201, in _finalize_join\n",
      "    thread.join()\n",
      "  File \"/home/vvivanov/anaconda3/envs/i_am_something_of_a_painter_myself/lib/python3.9/multiprocessing/queues.py\", line 201, in _finalize_join\n",
      "    thread.join()\n",
      "  File \"/home/vvivanov/anaconda3/envs/i_am_something_of_a_painter_myself/lib/python3.9/multiprocessing/queues.py\", line 201, in _finalize_join\n",
      "    thread.join()\n",
      "KeyboardInterrupt\n",
      "  File \"/home/vvivanov/anaconda3/envs/i_am_something_of_a_painter_myself/lib/python3.9/multiprocessing/util.py\", line 224, in __call__\n",
      "    res = self._callback(*self._args, **self._kwargs)\n",
      "KeyboardInterrupt\n",
      "  File \"/home/vvivanov/anaconda3/envs/i_am_something_of_a_painter_myself/lib/python3.9/multiprocessing/queues.py\", line 201, in _finalize_join\n",
      "    thread.join()\n",
      "  File \"/home/vvivanov/anaconda3/envs/i_am_something_of_a_painter_myself/lib/python3.9/threading.py\", line 1049, in _wait_for_tstate_lock\n",
      "    elif lock.acquire(block, timeout):\n",
      "  File \"/home/vvivanov/anaconda3/envs/i_am_something_of_a_painter_myself/lib/python3.9/threading.py\", line 1033, in join\n",
      "    self._wait_for_tstate_lock()\n",
      "  File \"/home/vvivanov/anaconda3/envs/i_am_something_of_a_painter_myself/lib/python3.9/multiprocessing/process.py\", line 318, in _bootstrap\n",
      "    util._exit_function()\n",
      "  File \"/home/vvivanov/anaconda3/envs/i_am_something_of_a_painter_myself/lib/python3.9/multiprocessing/queues.py\", line 201, in _finalize_join\n",
      "    thread.join()\n",
      "  File \"/home/vvivanov/anaconda3/envs/i_am_something_of_a_painter_myself/lib/python3.9/multiprocessing/util.py\", line 300, in _run_finalizers\n",
      "    finalizer()\n",
      "  File \"/home/vvivanov/anaconda3/envs/i_am_something_of_a_painter_myself/lib/python3.9/threading.py\", line 1033, in join\n",
      "    self._wait_for_tstate_lock()\n",
      "KeyboardInterrupt\n",
      "  File \"/home/vvivanov/anaconda3/envs/i_am_something_of_a_painter_myself/lib/python3.9/multiprocessing/queues.py\", line 201, in _finalize_join\n",
      "    thread.join()\n",
      "  File \"/home/vvivanov/anaconda3/envs/i_am_something_of_a_painter_myself/lib/python3.9/multiprocessing/util.py\", line 300, in _run_finalizers\n",
      "    finalizer()\n",
      "  File \"/home/vvivanov/anaconda3/envs/i_am_something_of_a_painter_myself/lib/python3.9/threading.py\", line 1033, in join\n",
      "    self._wait_for_tstate_lock()\n",
      "  File \"/home/vvivanov/anaconda3/envs/i_am_something_of_a_painter_myself/lib/python3.9/multiprocessing/util.py\", line 300, in _run_finalizers\n",
      "    finalizer()\n",
      "  File \"/home/vvivanov/anaconda3/envs/i_am_something_of_a_painter_myself/lib/python3.9/multiprocessing/process.py\", line 318, in _bootstrap\n",
      "    util._exit_function()\n",
      "Traceback (most recent call last):\n",
      "  File \"/home/vvivanov/anaconda3/envs/i_am_something_of_a_painter_myself/lib/python3.9/multiprocessing/util.py\", line 224, in __call__\n",
      "    res = self._callback(*self._args, **self._kwargs)\n"
     ]
    },
    {
     "name": "stderr",
     "output_type": "stream",
     "text": [
      "  File \"/home/vvivanov/anaconda3/envs/i_am_something_of_a_painter_myself/lib/python3.9/threading.py\", line 1049, in _wait_for_tstate_lock\n",
      "    elif lock.acquire(block, timeout):\n",
      "  File \"/home/vvivanov/anaconda3/envs/i_am_something_of_a_painter_myself/lib/python3.9/threading.py\", line 1049, in _wait_for_tstate_lock\n",
      "    elif lock.acquire(block, timeout):\n",
      "  File \"/home/vvivanov/anaconda3/envs/i_am_something_of_a_painter_myself/lib/python3.9/threading.py\", line 1049, in _wait_for_tstate_lock\n",
      "    elif lock.acquire(block, timeout):\n",
      "  File \"/home/vvivanov/anaconda3/envs/i_am_something_of_a_painter_myself/lib/python3.9/threading.py\", line 1033, in join\n",
      "    self._wait_for_tstate_lock()\n",
      "  File \"/home/vvivanov/anaconda3/envs/i_am_something_of_a_painter_myself/lib/python3.9/multiprocessing/util.py\", line 224, in __call__\n",
      "    res = self._callback(*self._args, **self._kwargs)\n",
      "  File \"/home/vvivanov/anaconda3/envs/i_am_something_of_a_painter_myself/lib/python3.9/multiprocessing/util.py\", line 224, in __call__\n",
      "    res = self._callback(*self._args, **self._kwargs)\n",
      "  File \"/home/vvivanov/anaconda3/envs/i_am_something_of_a_painter_myself/lib/python3.9/multiprocessing/util.py\", line 360, in _exit_function\n",
      "    _run_finalizers()\n",
      "KeyboardInterrupt\n",
      "  File \"/home/vvivanov/anaconda3/envs/i_am_something_of_a_painter_myself/lib/python3.9/multiprocessing/util.py\", line 360, in _exit_function\n",
      "    _run_finalizers()\n",
      "  File \"/home/vvivanov/anaconda3/envs/i_am_something_of_a_painter_myself/lib/python3.9/threading.py\", line 1049, in _wait_for_tstate_lock\n",
      "    elif lock.acquire(block, timeout):\n",
      "Process Process-645:\n",
      "  File \"/home/vvivanov/anaconda3/envs/i_am_something_of_a_painter_myself/lib/python3.9/threading.py\", line 1033, in join\n",
      "    self._wait_for_tstate_lock()\n",
      "  File \"/home/vvivanov/anaconda3/envs/i_am_something_of_a_painter_myself/lib/python3.9/multiprocessing/queues.py\", line 201, in _finalize_join\n",
      "    thread.join()\n",
      "  File \"/home/vvivanov/anaconda3/envs/i_am_something_of_a_painter_myself/lib/python3.9/multiprocessing/util.py\", line 360, in _exit_function\n",
      "    _run_finalizers()\n",
      "  File \"/home/vvivanov/anaconda3/envs/i_am_something_of_a_painter_myself/lib/python3.9/multiprocessing/queues.py\", line 201, in _finalize_join\n",
      "    thread.join()\n",
      "KeyboardInterrupt\n",
      "  File \"/home/vvivanov/anaconda3/envs/i_am_something_of_a_painter_myself/lib/python3.9/threading.py\", line 1033, in join\n",
      "    self._wait_for_tstate_lock()\n",
      "  File \"/home/vvivanov/anaconda3/envs/i_am_something_of_a_painter_myself/lib/python3.9/multiprocessing/util.py\", line 360, in _exit_function\n",
      "    _run_finalizers()\n",
      "  File \"/home/vvivanov/anaconda3/envs/i_am_something_of_a_painter_myself/lib/python3.9/multiprocessing/queues.py\", line 201, in _finalize_join\n",
      "    thread.join()\n",
      "  File \"/home/vvivanov/anaconda3/envs/i_am_something_of_a_painter_myself/lib/python3.9/threading.py\", line 1049, in _wait_for_tstate_lock\n",
      "    elif lock.acquire(block, timeout):\n",
      "  File \"/home/vvivanov/anaconda3/envs/i_am_something_of_a_painter_myself/lib/python3.9/multiprocessing/util.py\", line 224, in __call__\n",
      "    res = self._callback(*self._args, **self._kwargs)\n",
      "  File \"/home/vvivanov/anaconda3/envs/i_am_something_of_a_painter_myself/lib/python3.9/threading.py\", line 1033, in join\n",
      "    self._wait_for_tstate_lock()\n",
      "KeyboardInterrupt\n",
      "KeyboardInterrupt\n",
      "  File \"/home/vvivanov/anaconda3/envs/i_am_something_of_a_painter_myself/lib/python3.9/multiprocessing/queues.py\", line 201, in _finalize_join\n",
      "    thread.join()\n",
      "  File \"/home/vvivanov/anaconda3/envs/i_am_something_of_a_painter_myself/lib/python3.9/multiprocessing/util.py\", line 224, in __call__\n",
      "    res = self._callback(*self._args, **self._kwargs)\n",
      "  File \"/home/vvivanov/anaconda3/envs/i_am_something_of_a_painter_myself/lib/python3.9/threading.py\", line 1033, in join\n",
      "    self._wait_for_tstate_lock()\n",
      "  File \"/home/vvivanov/anaconda3/envs/i_am_something_of_a_painter_myself/lib/python3.9/threading.py\", line 1049, in _wait_for_tstate_lock\n",
      "    elif lock.acquire(block, timeout):\n",
      "Process Process-512:\n",
      "  File \"/home/vvivanov/anaconda3/envs/i_am_something_of_a_painter_myself/lib/python3.9/multiprocessing/process.py\", line 318, in _bootstrap\n",
      "    util._exit_function()\n",
      "Process Process-448:\n",
      "  File \"/home/vvivanov/anaconda3/envs/i_am_something_of_a_painter_myself/lib/python3.9/multiprocessing/util.py\", line 360, in _exit_function\n",
      "    _run_finalizers()\n",
      "Traceback (most recent call last):\n",
      "KeyboardInterrupt\n",
      "  File \"/home/vvivanov/anaconda3/envs/i_am_something_of_a_painter_myself/lib/python3.9/multiprocessing/util.py\", line 300, in _run_finalizers\n",
      "    finalizer()\n",
      "  File \"/home/vvivanov/anaconda3/envs/i_am_something_of_a_painter_myself/lib/python3.9/threading.py\", line 1033, in join\n",
      "    self._wait_for_tstate_lock()\n",
      "KeyboardInterrupt\n",
      "  File \"/home/vvivanov/anaconda3/envs/i_am_something_of_a_painter_myself/lib/python3.9/multiprocessing/util.py\", line 300, in _run_finalizers\n",
      "    finalizer()\n",
      "  File \"/home/vvivanov/anaconda3/envs/i_am_something_of_a_painter_myself/lib/python3.9/threading.py\", line 1033, in join\n",
      "    self._wait_for_tstate_lock()\n",
      "  File \"/home/vvivanov/anaconda3/envs/i_am_something_of_a_painter_myself/lib/python3.9/multiprocessing/queues.py\", line 201, in _finalize_join\n",
      "    thread.join()\n",
      "  File \"/home/vvivanov/anaconda3/envs/i_am_something_of_a_painter_myself/lib/python3.9/threading.py\", line 1033, in join\n",
      "    self._wait_for_tstate_lock()\n",
      "  File \"/home/vvivanov/anaconda3/envs/i_am_something_of_a_painter_myself/lib/python3.9/multiprocessing/queues.py\", line 201, in _finalize_join\n",
      "    thread.join()\n",
      "Process Process-376:\n",
      "  File \"/home/vvivanov/anaconda3/envs/i_am_something_of_a_painter_myself/lib/python3.9/multiprocessing/queues.py\", line 201, in _finalize_join\n",
      "    thread.join()\n",
      "  File \"/home/vvivanov/anaconda3/envs/i_am_something_of_a_painter_myself/lib/python3.9/multiprocessing/util.py\", line 224, in __call__\n",
      "    res = self._callback(*self._args, **self._kwargs)\n",
      "  File \"/home/vvivanov/anaconda3/envs/i_am_something_of_a_painter_myself/lib/python3.9/threading.py\", line 1033, in join\n",
      "    self._wait_for_tstate_lock()\n",
      "  File \"/home/vvivanov/anaconda3/envs/i_am_something_of_a_painter_myself/lib/python3.9/multiprocessing/util.py\", line 224, in __call__\n",
      "    res = self._callback(*self._args, **self._kwargs)\n",
      "  File \"/home/vvivanov/anaconda3/envs/i_am_something_of_a_painter_myself/lib/python3.9/multiprocessing/util.py\", line 360, in _exit_function\n",
      "    _run_finalizers()\n",
      "  File \"/home/vvivanov/anaconda3/envs/i_am_something_of_a_painter_myself/lib/python3.9/multiprocessing/util.py\", line 300, in _run_finalizers\n",
      "    finalizer()\n",
      "  File \"/home/vvivanov/anaconda3/envs/i_am_something_of_a_painter_myself/lib/python3.9/multiprocessing/util.py\", line 224, in __call__\n",
      "    res = self._callback(*self._args, **self._kwargs)\n",
      "  File \"/home/vvivanov/anaconda3/envs/i_am_something_of_a_painter_myself/lib/python3.9/multiprocessing/queues.py\", line 201, in _finalize_join\n",
      "    thread.join()\n",
      "  File \"/home/vvivanov/anaconda3/envs/i_am_something_of_a_painter_myself/lib/python3.9/threading.py\", line 1049, in _wait_for_tstate_lock\n",
      "    elif lock.acquire(block, timeout):\n",
      "Process Process-533:\n",
      "Process Process-464:\n",
      "  File \"/home/vvivanov/anaconda3/envs/i_am_something_of_a_painter_myself/lib/python3.9/threading.py\", line 1049, in _wait_for_tstate_lock\n",
      "    elif lock.acquire(block, timeout):\n",
      "KeyboardInterrupt\n",
      "  File \"/home/vvivanov/anaconda3/envs/i_am_something_of_a_painter_myself/lib/python3.9/multiprocessing/util.py\", line 300, in _run_finalizers\n",
      "    finalizer()\n",
      "  File \"/home/vvivanov/anaconda3/envs/i_am_something_of_a_painter_myself/lib/python3.9/multiprocessing/process.py\", line 318, in _bootstrap\n",
      "    util._exit_function()\n",
      "  File \"/home/vvivanov/anaconda3/envs/i_am_something_of_a_painter_myself/lib/python3.9/multiprocessing/util.py\", line 300, in _run_finalizers\n",
      "    finalizer()\n",
      "Traceback (most recent call last):\n",
      "Process Process-535:\n",
      "  File \"/home/vvivanov/anaconda3/envs/i_am_something_of_a_painter_myself/lib/python3.9/threading.py\", line 1033, in join\n",
      "    self._wait_for_tstate_lock()\n",
      "  File \"/home/vvivanov/anaconda3/envs/i_am_something_of_a_painter_myself/lib/python3.9/multiprocessing/util.py\", line 300, in _run_finalizers\n",
      "    finalizer()\n",
      "  File \"/home/vvivanov/anaconda3/envs/i_am_something_of_a_painter_myself/lib/python3.9/threading.py\", line 1049, in _wait_for_tstate_lock\n",
      "    elif lock.acquire(block, timeout):\n"
     ]
    },
    {
     "name": "stderr",
     "output_type": "stream",
     "text": [
      "  File \"/home/vvivanov/anaconda3/envs/i_am_something_of_a_painter_myself/lib/python3.9/threading.py\", line 1049, in _wait_for_tstate_lock\n",
      "    elif lock.acquire(block, timeout):\n",
      "  File \"/home/vvivanov/anaconda3/envs/i_am_something_of_a_painter_myself/lib/python3.9/multiprocessing/queues.py\", line 201, in _finalize_join\n",
      "    thread.join()\n",
      "Traceback (most recent call last):\n",
      "Process Process-352:\n",
      "Traceback (most recent call last):\n",
      "KeyboardInterrupt\n",
      "  File \"/home/vvivanov/anaconda3/envs/i_am_something_of_a_painter_myself/lib/python3.9/threading.py\", line 1033, in join\n",
      "    self._wait_for_tstate_lock()\n",
      "  File \"/home/vvivanov/anaconda3/envs/i_am_something_of_a_painter_myself/lib/python3.9/multiprocessing/queues.py\", line 201, in _finalize_join\n",
      "    thread.join()\n",
      "  File \"/home/vvivanov/anaconda3/envs/i_am_something_of_a_painter_myself/lib/python3.9/threading.py\", line 1049, in _wait_for_tstate_lock\n",
      "    elif lock.acquire(block, timeout):\n",
      "  File \"/home/vvivanov/anaconda3/envs/i_am_something_of_a_painter_myself/lib/python3.9/multiprocessing/util.py\", line 300, in _run_finalizers\n",
      "    finalizer()\n",
      "KeyboardInterrupt\n",
      "  File \"/home/vvivanov/anaconda3/envs/i_am_something_of_a_painter_myself/lib/python3.9/multiprocessing/queues.py\", line 201, in _finalize_join\n",
      "    thread.join()\n",
      "  File \"/home/vvivanov/anaconda3/envs/i_am_something_of_a_painter_myself/lib/python3.9/threading.py\", line 1033, in join\n",
      "    self._wait_for_tstate_lock()\n",
      "  File \"/home/vvivanov/anaconda3/envs/i_am_something_of_a_painter_myself/lib/python3.9/multiprocessing/util.py\", line 300, in _run_finalizers\n",
      "    finalizer()\n",
      "  File \"/home/vvivanov/anaconda3/envs/i_am_something_of_a_painter_myself/lib/python3.9/multiprocessing/queues.py\", line 201, in _finalize_join\n",
      "    thread.join()\n",
      "  File \"/home/vvivanov/anaconda3/envs/i_am_something_of_a_painter_myself/lib/python3.9/threading.py\", line 1049, in _wait_for_tstate_lock\n",
      "    elif lock.acquire(block, timeout):\n",
      "KeyboardInterrupt\n",
      "  File \"/home/vvivanov/anaconda3/envs/i_am_something_of_a_painter_myself/lib/python3.9/threading.py\", line 1033, in join\n",
      "    self._wait_for_tstate_lock()\n",
      "KeyboardInterrupt\n",
      "  File \"/home/vvivanov/anaconda3/envs/i_am_something_of_a_painter_myself/lib/python3.9/threading.py\", line 1033, in join\n",
      "    self._wait_for_tstate_lock()\n",
      "  File \"/home/vvivanov/anaconda3/envs/i_am_something_of_a_painter_myself/lib/python3.9/multiprocessing/queues.py\", line 201, in _finalize_join\n",
      "    thread.join()\n",
      "  File \"/home/vvivanov/anaconda3/envs/i_am_something_of_a_painter_myself/lib/python3.9/threading.py\", line 1049, in _wait_for_tstate_lock\n",
      "    elif lock.acquire(block, timeout):\n",
      "KeyboardInterrupt\n",
      "  File \"/home/vvivanov/anaconda3/envs/i_am_something_of_a_painter_myself/lib/python3.9/threading.py\", line 1033, in join\n",
      "    self._wait_for_tstate_lock()\n",
      "  File \"/home/vvivanov/anaconda3/envs/i_am_something_of_a_painter_myself/lib/python3.9/threading.py\", line 1033, in join\n",
      "    self._wait_for_tstate_lock()\n",
      "  File \"/home/vvivanov/anaconda3/envs/i_am_something_of_a_painter_myself/lib/python3.9/multiprocessing/util.py\", line 224, in __call__\n",
      "    res = self._callback(*self._args, **self._kwargs)\n",
      "  File \"/home/vvivanov/anaconda3/envs/i_am_something_of_a_painter_myself/lib/python3.9/threading.py\", line 1033, in join\n",
      "    self._wait_for_tstate_lock()\n",
      "  File \"/home/vvivanov/anaconda3/envs/i_am_something_of_a_painter_myself/lib/python3.9/multiprocessing/process.py\", line 318, in _bootstrap\n",
      "    util._exit_function()\n",
      "  File \"/home/vvivanov/anaconda3/envs/i_am_something_of_a_painter_myself/lib/python3.9/multiprocessing/util.py\", line 224, in __call__\n",
      "    res = self._callback(*self._args, **self._kwargs)\n",
      "Traceback (most recent call last):\n",
      "Traceback (most recent call last):\n",
      "  File \"/home/vvivanov/anaconda3/envs/i_am_something_of_a_painter_myself/lib/python3.9/multiprocessing/util.py\", line 360, in _exit_function\n",
      "    _run_finalizers()\n",
      "  File \"/home/vvivanov/anaconda3/envs/i_am_something_of_a_painter_myself/lib/python3.9/threading.py\", line 1033, in join\n",
      "    self._wait_for_tstate_lock()\n",
      "  File \"/home/vvivanov/anaconda3/envs/i_am_something_of_a_painter_myself/lib/python3.9/multiprocessing/util.py\", line 300, in _run_finalizers\n",
      "    finalizer()\n",
      "  File \"/home/vvivanov/anaconda3/envs/i_am_something_of_a_painter_myself/lib/python3.9/threading.py\", line 1049, in _wait_for_tstate_lock\n",
      "    elif lock.acquire(block, timeout):\n",
      "Traceback (most recent call last):\n",
      "  File \"/home/vvivanov/anaconda3/envs/i_am_something_of_a_painter_myself/lib/python3.9/multiprocessing/util.py\", line 360, in _exit_function\n",
      "    _run_finalizers()\n",
      "  File \"/home/vvivanov/anaconda3/envs/i_am_something_of_a_painter_myself/lib/python3.9/threading.py\", line 1033, in join\n",
      "    self._wait_for_tstate_lock()\n",
      "  File \"/home/vvivanov/anaconda3/envs/i_am_something_of_a_painter_myself/lib/python3.9/multiprocessing/util.py\", line 224, in __call__\n",
      "    res = self._callback(*self._args, **self._kwargs)\n",
      "  File \"/home/vvivanov/anaconda3/envs/i_am_something_of_a_painter_myself/lib/python3.9/multiprocessing/process.py\", line 318, in _bootstrap\n",
      "    util._exit_function()\n",
      "  File \"/home/vvivanov/anaconda3/envs/i_am_something_of_a_painter_myself/lib/python3.9/threading.py\", line 1033, in join\n",
      "    self._wait_for_tstate_lock()\n",
      "  File \"/home/vvivanov/anaconda3/envs/i_am_something_of_a_painter_myself/lib/python3.9/threading.py\", line 1049, in _wait_for_tstate_lock\n",
      "    elif lock.acquire(block, timeout):\n",
      "  File \"/home/vvivanov/anaconda3/envs/i_am_something_of_a_painter_myself/lib/python3.9/multiprocessing/util.py\", line 224, in __call__\n",
      "    res = self._callback(*self._args, **self._kwargs)\n",
      "KeyboardInterrupt\n",
      "  File \"/home/vvivanov/anaconda3/envs/i_am_something_of_a_painter_myself/lib/python3.9/threading.py\", line 1033, in join\n",
      "    self._wait_for_tstate_lock()\n",
      "  File \"/home/vvivanov/anaconda3/envs/i_am_something_of_a_painter_myself/lib/python3.9/threading.py\", line 1049, in _wait_for_tstate_lock\n",
      "    elif lock.acquire(block, timeout):\n",
      "  File \"/home/vvivanov/anaconda3/envs/i_am_something_of_a_painter_myself/lib/python3.9/multiprocessing/util.py\", line 224, in __call__\n",
      "    res = self._callback(*self._args, **self._kwargs)\n",
      "  File \"/home/vvivanov/anaconda3/envs/i_am_something_of_a_painter_myself/lib/python3.9/threading.py\", line 1033, in join\n",
      "    self._wait_for_tstate_lock()\n",
      "  File \"/home/vvivanov/anaconda3/envs/i_am_something_of_a_painter_myself/lib/python3.9/multiprocessing/queues.py\", line 201, in _finalize_join\n",
      "    thread.join()\n",
      "  File \"/home/vvivanov/anaconda3/envs/i_am_something_of_a_painter_myself/lib/python3.9/threading.py\", line 1049, in _wait_for_tstate_lock\n",
      "    elif lock.acquire(block, timeout):\n",
      "Traceback (most recent call last):\n",
      "  File \"/home/vvivanov/anaconda3/envs/i_am_something_of_a_painter_myself/lib/python3.9/threading.py\", line 1049, in _wait_for_tstate_lock\n",
      "    elif lock.acquire(block, timeout):\n",
      "  File \"/home/vvivanov/anaconda3/envs/i_am_something_of_a_painter_myself/lib/python3.9/threading.py\", line 1049, in _wait_for_tstate_lock\n",
      "    elif lock.acquire(block, timeout):\n",
      "Traceback (most recent call last):\n",
      "Traceback (most recent call last):\n",
      "  File \"/home/vvivanov/anaconda3/envs/i_am_something_of_a_painter_myself/lib/python3.9/threading.py\", line 1049, in _wait_for_tstate_lock\n",
      "    elif lock.acquire(block, timeout):\n",
      "  File \"/home/vvivanov/anaconda3/envs/i_am_something_of_a_painter_myself/lib/python3.9/threading.py\", line 1033, in join\n",
      "    self._wait_for_tstate_lock()\n",
      "  File \"/home/vvivanov/anaconda3/envs/i_am_something_of_a_painter_myself/lib/python3.9/threading.py\", line 1049, in _wait_for_tstate_lock\n",
      "    elif lock.acquire(block, timeout):\n",
      "KeyboardInterrupt\n",
      "  File \"/home/vvivanov/anaconda3/envs/i_am_something_of_a_painter_myself/lib/python3.9/multiprocessing/util.py\", line 224, in __call__\n",
      "    res = self._callback(*self._args, **self._kwargs)\n",
      "  File \"/home/vvivanov/anaconda3/envs/i_am_something_of_a_painter_myself/lib/python3.9/multiprocessing/util.py\", line 224, in __call__\n",
      "    res = self._callback(*self._args, **self._kwargs)\n",
      "  File \"/home/vvivanov/anaconda3/envs/i_am_something_of_a_painter_myself/lib/python3.9/multiprocessing/util.py\", line 224, in __call__\n",
      "    res = self._callback(*self._args, **self._kwargs)\n",
      "Traceback (most recent call last):\n"
     ]
    },
    {
     "name": "stderr",
     "output_type": "stream",
     "text": [
      "Traceback (most recent call last):\n",
      "  File \"/home/vvivanov/anaconda3/envs/i_am_something_of_a_painter_myself/lib/python3.9/multiprocessing/queues.py\", line 201, in _finalize_join\n",
      "    thread.join()\n",
      "  File \"/home/vvivanov/anaconda3/envs/i_am_something_of_a_painter_myself/lib/python3.9/threading.py\", line 1033, in join\n",
      "    self._wait_for_tstate_lock()\n",
      "KeyboardInterrupt\n",
      "  File \"/home/vvivanov/anaconda3/envs/i_am_something_of_a_painter_myself/lib/python3.9/multiprocessing/process.py\", line 318, in _bootstrap\n",
      "    util._exit_function()\n",
      "  File \"/home/vvivanov/anaconda3/envs/i_am_something_of_a_painter_myself/lib/python3.9/threading.py\", line 1049, in _wait_for_tstate_lock\n",
      "    elif lock.acquire(block, timeout):\n",
      "KeyboardInterrupt\n",
      "Process Process-600:\n",
      "  File \"/home/vvivanov/anaconda3/envs/i_am_something_of_a_painter_myself/lib/python3.9/multiprocessing/queues.py\", line 201, in _finalize_join\n",
      "    thread.join()\n",
      "  File \"/home/vvivanov/anaconda3/envs/i_am_something_of_a_painter_myself/lib/python3.9/multiprocessing/process.py\", line 318, in _bootstrap\n",
      "    util._exit_function()\n",
      "  File \"/home/vvivanov/anaconda3/envs/i_am_something_of_a_painter_myself/lib/python3.9/threading.py\", line 1049, in _wait_for_tstate_lock\n",
      "    elif lock.acquire(block, timeout):\n",
      "  File \"/home/vvivanov/anaconda3/envs/i_am_something_of_a_painter_myself/lib/python3.9/multiprocessing/process.py\", line 318, in _bootstrap\n",
      "    util._exit_function()\n",
      "KeyboardInterrupt\n",
      "  File \"/home/vvivanov/anaconda3/envs/i_am_something_of_a_painter_myself/lib/python3.9/multiprocessing/queues.py\", line 201, in _finalize_join\n",
      "    thread.join()\n",
      "KeyboardInterrupt\n",
      "  File \"/home/vvivanov/anaconda3/envs/i_am_something_of_a_painter_myself/lib/python3.9/threading.py\", line 1049, in _wait_for_tstate_lock\n",
      "    elif lock.acquire(block, timeout):\n",
      "Traceback (most recent call last):\n",
      "  File \"/home/vvivanov/anaconda3/envs/i_am_something_of_a_painter_myself/lib/python3.9/threading.py\", line 1049, in _wait_for_tstate_lock\n",
      "    elif lock.acquire(block, timeout):\n",
      "  File \"/home/vvivanov/anaconda3/envs/i_am_something_of_a_painter_myself/lib/python3.9/multiprocessing/queues.py\", line 201, in _finalize_join\n",
      "    thread.join()\n",
      "Process Process-597:\n",
      "Traceback (most recent call last):\n",
      "  File \"/home/vvivanov/anaconda3/envs/i_am_something_of_a_painter_myself/lib/python3.9/multiprocessing/process.py\", line 318, in _bootstrap\n",
      "    util._exit_function()\n",
      "  File \"/home/vvivanov/anaconda3/envs/i_am_something_of_a_painter_myself/lib/python3.9/threading.py\", line 1033, in join\n",
      "    self._wait_for_tstate_lock()\n",
      "  File \"/home/vvivanov/anaconda3/envs/i_am_something_of_a_painter_myself/lib/python3.9/multiprocessing/util.py\", line 224, in __call__\n",
      "    res = self._callback(*self._args, **self._kwargs)\n",
      "Traceback (most recent call last):\n",
      "KeyboardInterrupt\n",
      "KeyboardInterrupt\n",
      "  File \"/home/vvivanov/anaconda3/envs/i_am_something_of_a_painter_myself/lib/python3.9/multiprocessing/process.py\", line 318, in _bootstrap\n",
      "    util._exit_function()\n",
      "  File \"/home/vvivanov/anaconda3/envs/i_am_something_of_a_painter_myself/lib/python3.9/threading.py\", line 1049, in _wait_for_tstate_lock\n",
      "    elif lock.acquire(block, timeout):\n",
      "  File \"/home/vvivanov/anaconda3/envs/i_am_something_of_a_painter_myself/lib/python3.9/multiprocessing/process.py\", line 318, in _bootstrap\n",
      "    util._exit_function()\n",
      "  File \"/home/vvivanov/anaconda3/envs/i_am_something_of_a_painter_myself/lib/python3.9/multiprocessing/queues.py\", line 201, in _finalize_join\n",
      "    thread.join()\n",
      "  File \"/home/vvivanov/anaconda3/envs/i_am_something_of_a_painter_myself/lib/python3.9/threading.py\", line 1049, in _wait_for_tstate_lock\n",
      "    elif lock.acquire(block, timeout):\n",
      "KeyboardInterrupt\n",
      "KeyboardInterrupt\n",
      "  File \"/home/vvivanov/anaconda3/envs/i_am_something_of_a_painter_myself/lib/python3.9/multiprocessing/queues.py\", line 201, in _finalize_join\n",
      "    thread.join()\n",
      "  File \"/home/vvivanov/anaconda3/envs/i_am_something_of_a_painter_myself/lib/python3.9/threading.py\", line 1033, in join\n",
      "    self._wait_for_tstate_lock()\n",
      "  File \"/home/vvivanov/anaconda3/envs/i_am_something_of_a_painter_myself/lib/python3.9/multiprocessing/process.py\", line 318, in _bootstrap\n",
      "    util._exit_function()\n",
      "KeyboardInterrupt\n",
      "KeyboardInterrupt\n",
      "  File \"/home/vvivanov/anaconda3/envs/i_am_something_of_a_painter_myself/lib/python3.9/multiprocessing/queues.py\", line 201, in _finalize_join\n",
      "    thread.join()\n",
      "  File \"/home/vvivanov/anaconda3/envs/i_am_something_of_a_painter_myself/lib/python3.9/threading.py\", line 1049, in _wait_for_tstate_lock\n",
      "    elif lock.acquire(block, timeout):\n",
      "  File \"/home/vvivanov/anaconda3/envs/i_am_something_of_a_painter_myself/lib/python3.9/multiprocessing/util.py\", line 360, in _exit_function\n",
      "    _run_finalizers()\n",
      "  File \"/home/vvivanov/anaconda3/envs/i_am_something_of_a_painter_myself/lib/python3.9/threading.py\", line 1049, in _wait_for_tstate_lock\n",
      "    elif lock.acquire(block, timeout):\n",
      "  File \"/home/vvivanov/anaconda3/envs/i_am_something_of_a_painter_myself/lib/python3.9/multiprocessing/queues.py\", line 201, in _finalize_join\n",
      "    thread.join()\n",
      "  File \"/home/vvivanov/anaconda3/envs/i_am_something_of_a_painter_myself/lib/python3.9/multiprocessing/process.py\", line 318, in _bootstrap\n",
      "    util._exit_function()\n",
      "  File \"/home/vvivanov/anaconda3/envs/i_am_something_of_a_painter_myself/lib/python3.9/multiprocessing/process.py\", line 318, in _bootstrap\n",
      "    util._exit_function()\n",
      "  File \"/home/vvivanov/anaconda3/envs/i_am_something_of_a_painter_myself/lib/python3.9/multiprocessing/util.py\", line 360, in _exit_function\n",
      "    _run_finalizers()\n",
      "  File \"/home/vvivanov/anaconda3/envs/i_am_something_of_a_painter_myself/lib/python3.9/threading.py\", line 1033, in join\n",
      "    self._wait_for_tstate_lock()\n",
      "  File \"/home/vvivanov/anaconda3/envs/i_am_something_of_a_painter_myself/lib/python3.9/multiprocessing/util.py\", line 360, in _exit_function\n",
      "    _run_finalizers()\n",
      "KeyboardInterrupt\n",
      "  File \"/home/vvivanov/anaconda3/envs/i_am_something_of_a_painter_myself/lib/python3.9/multiprocessing/util.py\", line 360, in _exit_function\n",
      "    _run_finalizers()\n",
      "  File \"/home/vvivanov/anaconda3/envs/i_am_something_of_a_painter_myself/lib/python3.9/threading.py\", line 1049, in _wait_for_tstate_lock\n",
      "    elif lock.acquire(block, timeout):\n",
      "  File \"/home/vvivanov/anaconda3/envs/i_am_something_of_a_painter_myself/lib/python3.9/threading.py\", line 1033, in join\n",
      "    self._wait_for_tstate_lock()\n",
      "  File \"/home/vvivanov/anaconda3/envs/i_am_something_of_a_painter_myself/lib/python3.9/threading.py\", line 1033, in join\n",
      "    self._wait_for_tstate_lock()\n",
      "  File \"/home/vvivanov/anaconda3/envs/i_am_something_of_a_painter_myself/lib/python3.9/multiprocessing/util.py\", line 360, in _exit_function\n",
      "    _run_finalizers()\n",
      "  File \"/home/vvivanov/anaconda3/envs/i_am_something_of_a_painter_myself/lib/python3.9/threading.py\", line 1049, in _wait_for_tstate_lock\n",
      "    elif lock.acquire(block, timeout):\n",
      "  File \"/home/vvivanov/anaconda3/envs/i_am_something_of_a_painter_myself/lib/python3.9/threading.py\", line 1049, in _wait_for_tstate_lock\n",
      "    elif lock.acquire(block, timeout):\n",
      "  File \"/home/vvivanov/anaconda3/envs/i_am_something_of_a_painter_myself/lib/python3.9/multiprocessing/process.py\", line 318, in _bootstrap\n",
      "    util._exit_function()\n",
      "Traceback (most recent call last):\n",
      "  File \"/home/vvivanov/anaconda3/envs/i_am_something_of_a_painter_myself/lib/python3.9/multiprocessing/queues.py\", line 201, in _finalize_join\n",
      "    thread.join()\n",
      "  File \"/home/vvivanov/anaconda3/envs/i_am_something_of_a_painter_myself/lib/python3.9/multiprocessing/process.py\", line 318, in _bootstrap\n",
      "    util._exit_function()\n",
      "KeyboardInterrupt\n",
      "Process Process-599:\n",
      "  File \"/home/vvivanov/anaconda3/envs/i_am_something_of_a_painter_myself/lib/python3.9/multiprocessing/util.py\", line 360, in _exit_function\n",
      "    _run_finalizers()\n",
      "KeyboardInterrupt\n",
      "KeyboardInterrupt\n",
      "  File \"/home/vvivanov/anaconda3/envs/i_am_something_of_a_painter_myself/lib/python3.9/multiprocessing/util.py\", line 360, in _exit_function\n",
      "    _run_finalizers()\n",
      "  File \"/home/vvivanov/anaconda3/envs/i_am_something_of_a_painter_myself/lib/python3.9/multiprocessing/util.py\", line 360, in _exit_function\n",
      "    _run_finalizers()\n",
      "KeyboardInterrupt\n",
      "  File \"/home/vvivanov/anaconda3/envs/i_am_something_of_a_painter_myself/lib/python3.9/multiprocessing/util.py\", line 300, in _run_finalizers\n",
      "    finalizer()\n"
     ]
    },
    {
     "name": "stderr",
     "output_type": "stream",
     "text": [
      "  File \"/home/vvivanov/anaconda3/envs/i_am_something_of_a_painter_myself/lib/python3.9/multiprocessing/util.py\", line 300, in _run_finalizers\n",
      "    finalizer()\n",
      "  File \"/home/vvivanov/anaconda3/envs/i_am_something_of_a_painter_myself/lib/python3.9/multiprocessing/util.py\", line 300, in _run_finalizers\n",
      "    finalizer()\n",
      "  File \"/home/vvivanov/anaconda3/envs/i_am_something_of_a_painter_myself/lib/python3.9/multiprocessing/util.py\", line 360, in _exit_function\n",
      "    _run_finalizers()\n",
      "  File \"/home/vvivanov/anaconda3/envs/i_am_something_of_a_painter_myself/lib/python3.9/multiprocessing/util.py\", line 360, in _exit_function\n",
      "    _run_finalizers()\n",
      "  File \"/home/vvivanov/anaconda3/envs/i_am_something_of_a_painter_myself/lib/python3.9/threading.py\", line 1033, in join\n",
      "    self._wait_for_tstate_lock()\n",
      "  File \"/home/vvivanov/anaconda3/envs/i_am_something_of_a_painter_myself/lib/python3.9/threading.py\", line 1033, in join\n",
      "    self._wait_for_tstate_lock()\n",
      "  File \"/home/vvivanov/anaconda3/envs/i_am_something_of_a_painter_myself/lib/python3.9/multiprocessing/util.py\", line 360, in _exit_function\n",
      "    _run_finalizers()\n",
      "  File \"/home/vvivanov/anaconda3/envs/i_am_something_of_a_painter_myself/lib/python3.9/multiprocessing/util.py\", line 300, in _run_finalizers\n",
      "    finalizer()\n",
      "  File \"/home/vvivanov/anaconda3/envs/i_am_something_of_a_painter_myself/lib/python3.9/threading.py\", line 1049, in _wait_for_tstate_lock\n",
      "    elif lock.acquire(block, timeout):\n",
      "  File \"/home/vvivanov/anaconda3/envs/i_am_something_of_a_painter_myself/lib/python3.9/threading.py\", line 1033, in join\n",
      "    self._wait_for_tstate_lock()\n",
      "  File \"/home/vvivanov/anaconda3/envs/i_am_something_of_a_painter_myself/lib/python3.9/multiprocessing/util.py\", line 300, in _run_finalizers\n",
      "    finalizer()\n",
      "  File \"/home/vvivanov/anaconda3/envs/i_am_something_of_a_painter_myself/lib/python3.9/multiprocessing/util.py\", line 300, in _run_finalizers\n",
      "    finalizer()\n",
      "KeyboardInterrupt\n",
      "  File \"/home/vvivanov/anaconda3/envs/i_am_something_of_a_painter_myself/lib/python3.9/threading.py\", line 1049, in _wait_for_tstate_lock\n",
      "    elif lock.acquire(block, timeout):\n",
      "KeyboardInterrupt\n",
      "Traceback (most recent call last):\n",
      "  File \"/home/vvivanov/anaconda3/envs/i_am_something_of_a_painter_myself/lib/python3.9/threading.py\", line 1033, in join\n",
      "    self._wait_for_tstate_lock()\n",
      "  File \"/home/vvivanov/anaconda3/envs/i_am_something_of_a_painter_myself/lib/python3.9/multiprocessing/util.py\", line 360, in _exit_function\n",
      "    _run_finalizers()\n",
      "KeyboardInterrupt\n",
      "  File \"/home/vvivanov/anaconda3/envs/i_am_something_of_a_painter_myself/lib/python3.9/multiprocessing/util.py\", line 300, in _run_finalizers\n",
      "    finalizer()\n",
      "  File \"/home/vvivanov/anaconda3/envs/i_am_something_of_a_painter_myself/lib/python3.9/threading.py\", line 1049, in _wait_for_tstate_lock\n",
      "    elif lock.acquire(block, timeout):\n",
      "  File \"/home/vvivanov/anaconda3/envs/i_am_something_of_a_painter_myself/lib/python3.9/multiprocessing/util.py\", line 224, in __call__\n",
      "    res = self._callback(*self._args, **self._kwargs)\n",
      "  File \"/home/vvivanov/anaconda3/envs/i_am_something_of_a_painter_myself/lib/python3.9/threading.py\", line 1049, in _wait_for_tstate_lock\n",
      "    elif lock.acquire(block, timeout):\n",
      "  File \"/home/vvivanov/anaconda3/envs/i_am_something_of_a_painter_myself/lib/python3.9/multiprocessing/queues.py\", line 201, in _finalize_join\n",
      "    thread.join()\n",
      "  File \"/home/vvivanov/anaconda3/envs/i_am_something_of_a_painter_myself/lib/python3.9/multiprocessing/util.py\", line 224, in __call__\n",
      "    res = self._callback(*self._args, **self._kwargs)\n",
      "KeyboardInterrupt\n",
      "KeyboardInterrupt\n",
      "  File \"/home/vvivanov/anaconda3/envs/i_am_something_of_a_painter_myself/lib/python3.9/threading.py\", line 1049, in _wait_for_tstate_lock\n",
      "    elif lock.acquire(block, timeout):\n",
      "  File \"/home/vvivanov/anaconda3/envs/i_am_something_of_a_painter_myself/lib/python3.9/multiprocessing/process.py\", line 318, in _bootstrap\n",
      "    util._exit_function()\n",
      "  File \"/home/vvivanov/anaconda3/envs/i_am_something_of_a_painter_myself/lib/python3.9/multiprocessing/process.py\", line 318, in _bootstrap\n",
      "    util._exit_function()\n",
      "KeyboardInterrupt\n",
      "  File \"/home/vvivanov/anaconda3/envs/i_am_something_of_a_painter_myself/lib/python3.9/multiprocessing/util.py\", line 360, in _exit_function\n",
      "    _run_finalizers()\n",
      "  File \"/home/vvivanov/anaconda3/envs/i_am_something_of_a_painter_myself/lib/python3.9/multiprocessing/util.py\", line 300, in _run_finalizers\n",
      "    finalizer()\n",
      "  File \"/home/vvivanov/anaconda3/envs/i_am_something_of_a_painter_myself/lib/python3.9/multiprocessing/util.py\", line 224, in __call__\n",
      "    res = self._callback(*self._args, **self._kwargs)\n",
      "KeyboardInterrupt\n",
      "  File \"/home/vvivanov/anaconda3/envs/i_am_something_of_a_painter_myself/lib/python3.9/multiprocessing/util.py\", line 224, in __call__\n",
      "    res = self._callback(*self._args, **self._kwargs)\n",
      "Traceback (most recent call last):\n",
      "  File \"/home/vvivanov/anaconda3/envs/i_am_something_of_a_painter_myself/lib/python3.9/multiprocessing/queues.py\", line 201, in _finalize_join\n",
      "    thread.join()\n",
      "  File \"/home/vvivanov/anaconda3/envs/i_am_something_of_a_painter_myself/lib/python3.9/threading.py\", line 1049, in _wait_for_tstate_lock\n",
      "    elif lock.acquire(block, timeout):\n",
      "  File \"/home/vvivanov/anaconda3/envs/i_am_something_of_a_painter_myself/lib/python3.9/multiprocessing/process.py\", line 318, in _bootstrap\n",
      "    util._exit_function()\n",
      "  File \"/home/vvivanov/anaconda3/envs/i_am_something_of_a_painter_myself/lib/python3.9/multiprocessing/util.py\", line 360, in _exit_function\n",
      "    _run_finalizers()\n",
      "  File \"/home/vvivanov/anaconda3/envs/i_am_something_of_a_painter_myself/lib/python3.9/multiprocessing/util.py\", line 300, in _run_finalizers\n",
      "    finalizer()\n",
      "  File \"/home/vvivanov/anaconda3/envs/i_am_something_of_a_painter_myself/lib/python3.9/threading.py\", line 1033, in join\n",
      "    self._wait_for_tstate_lock()\n",
      "KeyboardInterrupt\n",
      "  File \"/home/vvivanov/anaconda3/envs/i_am_something_of_a_painter_myself/lib/python3.9/multiprocessing/util.py\", line 300, in _run_finalizers\n",
      "    finalizer()\n",
      "  File \"/home/vvivanov/anaconda3/envs/i_am_something_of_a_painter_myself/lib/python3.9/multiprocessing/util.py\", line 300, in _run_finalizers\n",
      "    finalizer()\n",
      "  File \"/home/vvivanov/anaconda3/envs/i_am_something_of_a_painter_myself/lib/python3.9/multiprocessing/util.py\", line 360, in _exit_function\n",
      "    _run_finalizers()\n",
      "  File \"/home/vvivanov/anaconda3/envs/i_am_something_of_a_painter_myself/lib/python3.9/threading.py\", line 1049, in _wait_for_tstate_lock\n",
      "    elif lock.acquire(block, timeout):\n",
      "KeyboardInterrupt\n",
      "  File \"/home/vvivanov/anaconda3/envs/i_am_something_of_a_painter_myself/lib/python3.9/multiprocessing/util.py\", line 224, in __call__\n",
      "    res = self._callback(*self._args, **self._kwargs)\n",
      "  File \"/home/vvivanov/anaconda3/envs/i_am_something_of_a_painter_myself/lib/python3.9/multiprocessing/util.py\", line 224, in __call__\n",
      "    res = self._callback(*self._args, **self._kwargs)\n",
      "  File \"/home/vvivanov/anaconda3/envs/i_am_something_of_a_painter_myself/lib/python3.9/multiprocessing/util.py\", line 224, in __call__\n",
      "    res = self._callback(*self._args, **self._kwargs)\n",
      "  File \"/home/vvivanov/anaconda3/envs/i_am_something_of_a_painter_myself/lib/python3.9/multiprocessing/queues.py\", line 201, in _finalize_join\n",
      "    thread.join()\n",
      "  File \"/home/vvivanov/anaconda3/envs/i_am_something_of_a_painter_myself/lib/python3.9/threading.py\", line 1049, in _wait_for_tstate_lock\n",
      "    elif lock.acquire(block, timeout):\n",
      "  File \"/home/vvivanov/anaconda3/envs/i_am_something_of_a_painter_myself/lib/python3.9/multiprocessing/util.py\", line 224, in __call__\n",
      "    res = self._callback(*self._args, **self._kwargs)\n",
      "  File \"/home/vvivanov/anaconda3/envs/i_am_something_of_a_painter_myself/lib/python3.9/multiprocessing/util.py\", line 300, in _run_finalizers\n",
      "    finalizer()\n",
      "  File \"/home/vvivanov/anaconda3/envs/i_am_something_of_a_painter_myself/lib/python3.9/threading.py\", line 1033, in join\n",
      "    self._wait_for_tstate_lock()\n",
      "  File \"/home/vvivanov/anaconda3/envs/i_am_something_of_a_painter_myself/lib/python3.9/multiprocessing/util.py\", line 360, in _exit_function\n",
      "    _run_finalizers()\n",
      "  File \"/home/vvivanov/anaconda3/envs/i_am_something_of_a_painter_myself/lib/python3.9/multiprocessing/process.py\", line 318, in _bootstrap\n",
      "    util._exit_function()\n"
     ]
    },
    {
     "name": "stderr",
     "output_type": "stream",
     "text": [
      "  File \"/home/vvivanov/anaconda3/envs/i_am_something_of_a_painter_myself/lib/python3.9/multiprocessing/util.py\", line 300, in _run_finalizers\n",
      "    finalizer()\n",
      "KeyboardInterrupt\n",
      "  File \"/home/vvivanov/anaconda3/envs/i_am_something_of_a_painter_myself/lib/python3.9/multiprocessing/util.py\", line 300, in _run_finalizers\n",
      "    finalizer()\n",
      "  File \"/home/vvivanov/anaconda3/envs/i_am_something_of_a_painter_myself/lib/python3.9/multiprocessing/util.py\", line 224, in __call__\n",
      "    res = self._callback(*self._args, **self._kwargs)\n",
      "  File \"/home/vvivanov/anaconda3/envs/i_am_something_of_a_painter_myself/lib/python3.9/multiprocessing/util.py\", line 300, in _run_finalizers\n",
      "    finalizer()\n",
      "KeyboardInterrupt\n",
      "  File \"/home/vvivanov/anaconda3/envs/i_am_something_of_a_painter_myself/lib/python3.9/multiprocessing/util.py\", line 300, in _run_finalizers\n",
      "    finalizer()\n",
      "  File \"/home/vvivanov/anaconda3/envs/i_am_something_of_a_painter_myself/lib/python3.9/multiprocessing/queues.py\", line 201, in _finalize_join\n",
      "    thread.join()\n",
      "  File \"/home/vvivanov/anaconda3/envs/i_am_something_of_a_painter_myself/lib/python3.9/multiprocessing/util.py\", line 224, in __call__\n",
      "    res = self._callback(*self._args, **self._kwargs)\n",
      "  File \"/home/vvivanov/anaconda3/envs/i_am_something_of_a_painter_myself/lib/python3.9/multiprocessing/util.py\", line 224, in __call__\n",
      "    res = self._callback(*self._args, **self._kwargs)\n",
      "  File \"/home/vvivanov/anaconda3/envs/i_am_something_of_a_painter_myself/lib/python3.9/threading.py\", line 1033, in join\n",
      "    self._wait_for_tstate_lock()\n",
      "  File \"/home/vvivanov/anaconda3/envs/i_am_something_of_a_painter_myself/lib/python3.9/multiprocessing/queues.py\", line 201, in _finalize_join\n",
      "    thread.join()\n",
      "  File \"/home/vvivanov/anaconda3/envs/i_am_something_of_a_painter_myself/lib/python3.9/threading.py\", line 1033, in join\n",
      "    self._wait_for_tstate_lock()\n",
      "  File \"/home/vvivanov/anaconda3/envs/i_am_something_of_a_painter_myself/lib/python3.9/multiprocessing/queues.py\", line 201, in _finalize_join\n",
      "    thread.join()\n",
      "  File \"/home/vvivanov/anaconda3/envs/i_am_something_of_a_painter_myself/lib/python3.9/threading.py\", line 1033, in join\n",
      "    self._wait_for_tstate_lock()\n",
      "  File \"/home/vvivanov/anaconda3/envs/i_am_something_of_a_painter_myself/lib/python3.9/multiprocessing/util.py\", line 224, in __call__\n",
      "    res = self._callback(*self._args, **self._kwargs)\n",
      "  File \"/home/vvivanov/anaconda3/envs/i_am_something_of_a_painter_myself/lib/python3.9/multiprocessing/util.py\", line 360, in _exit_function\n",
      "    _run_finalizers()\n",
      "  File \"/home/vvivanov/anaconda3/envs/i_am_something_of_a_painter_myself/lib/python3.9/multiprocessing/util.py\", line 224, in __call__\n",
      "    res = self._callback(*self._args, **self._kwargs)\n",
      "  File \"/home/vvivanov/anaconda3/envs/i_am_something_of_a_painter_myself/lib/python3.9/multiprocessing/queues.py\", line 201, in _finalize_join\n",
      "    thread.join()\n",
      "  File \"/home/vvivanov/anaconda3/envs/i_am_something_of_a_painter_myself/lib/python3.9/multiprocessing/util.py\", line 224, in __call__\n",
      "    res = self._callback(*self._args, **self._kwargs)\n",
      "KeyboardInterrupt\n",
      "  File \"/home/vvivanov/anaconda3/envs/i_am_something_of_a_painter_myself/lib/python3.9/multiprocessing/util.py\", line 224, in __call__\n",
      "    res = self._callback(*self._args, **self._kwargs)\n",
      "  File \"/home/vvivanov/anaconda3/envs/i_am_something_of_a_painter_myself/lib/python3.9/multiprocessing/util.py\", line 224, in __call__\n",
      "    res = self._callback(*self._args, **self._kwargs)\n",
      "  File \"/home/vvivanov/anaconda3/envs/i_am_something_of_a_painter_myself/lib/python3.9/multiprocessing/queues.py\", line 201, in _finalize_join\n",
      "    thread.join()\n",
      "  File \"/home/vvivanov/anaconda3/envs/i_am_something_of_a_painter_myself/lib/python3.9/multiprocessing/util.py\", line 300, in _run_finalizers\n",
      "    finalizer()\n",
      "  File \"/home/vvivanov/anaconda3/envs/i_am_something_of_a_painter_myself/lib/python3.9/multiprocessing/queues.py\", line 201, in _finalize_join\n",
      "    thread.join()\n",
      "  File \"/home/vvivanov/anaconda3/envs/i_am_something_of_a_painter_myself/lib/python3.9/multiprocessing/queues.py\", line 201, in _finalize_join\n",
      "    thread.join()\n",
      "  File \"/home/vvivanov/anaconda3/envs/i_am_something_of_a_painter_myself/lib/python3.9/threading.py\", line 1033, in join\n",
      "    self._wait_for_tstate_lock()\n",
      "  File \"/home/vvivanov/anaconda3/envs/i_am_something_of_a_painter_myself/lib/python3.9/multiprocessing/util.py\", line 300, in _run_finalizers\n",
      "    finalizer()\n",
      "  File \"/home/vvivanov/anaconda3/envs/i_am_something_of_a_painter_myself/lib/python3.9/multiprocessing/queues.py\", line 201, in _finalize_join\n",
      "    thread.join()\n",
      "  File \"/home/vvivanov/anaconda3/envs/i_am_something_of_a_painter_myself/lib/python3.9/multiprocessing/queues.py\", line 201, in _finalize_join\n",
      "    thread.join()\n",
      "KeyboardInterrupt\n",
      "  File \"/home/vvivanov/anaconda3/envs/i_am_something_of_a_painter_myself/lib/python3.9/threading.py\", line 1033, in join\n",
      "    self._wait_for_tstate_lock()\n",
      "  File \"/home/vvivanov/anaconda3/envs/i_am_something_of_a_painter_myself/lib/python3.9/multiprocessing/queues.py\", line 201, in _finalize_join\n",
      "    thread.join()\n",
      "  File \"/home/vvivanov/anaconda3/envs/i_am_something_of_a_painter_myself/lib/python3.9/threading.py\", line 1033, in join\n",
      "    self._wait_for_tstate_lock()\n",
      "  File \"/home/vvivanov/anaconda3/envs/i_am_something_of_a_painter_myself/lib/python3.9/multiprocessing/util.py\", line 300, in _run_finalizers\n",
      "    finalizer()\n",
      "  File \"/home/vvivanov/anaconda3/envs/i_am_something_of_a_painter_myself/lib/python3.9/multiprocessing/queues.py\", line 201, in _finalize_join\n",
      "    thread.join()\n",
      "  File \"/home/vvivanov/anaconda3/envs/i_am_something_of_a_painter_myself/lib/python3.9/threading.py\", line 1033, in join\n",
      "    self._wait_for_tstate_lock()\n",
      "  File \"/home/vvivanov/anaconda3/envs/i_am_something_of_a_painter_myself/lib/python3.9/multiprocessing/queues.py\", line 201, in _finalize_join\n",
      "    thread.join()\n",
      "  File \"/home/vvivanov/anaconda3/envs/i_am_something_of_a_painter_myself/lib/python3.9/threading.py\", line 1033, in join\n",
      "    self._wait_for_tstate_lock()\n",
      "  File \"/home/vvivanov/anaconda3/envs/i_am_something_of_a_painter_myself/lib/python3.9/threading.py\", line 1049, in _wait_for_tstate_lock\n",
      "    elif lock.acquire(block, timeout):\n",
      "  File \"/home/vvivanov/anaconda3/envs/i_am_something_of_a_painter_myself/lib/python3.9/threading.py\", line 1049, in _wait_for_tstate_lock\n",
      "    elif lock.acquire(block, timeout):\n",
      "  File \"/home/vvivanov/anaconda3/envs/i_am_something_of_a_painter_myself/lib/python3.9/threading.py\", line 1049, in _wait_for_tstate_lock\n",
      "    elif lock.acquire(block, timeout):\n",
      "  File \"/home/vvivanov/anaconda3/envs/i_am_something_of_a_painter_myself/lib/python3.9/multiprocessing/util.py\", line 224, in __call__\n",
      "    res = self._callback(*self._args, **self._kwargs)\n",
      "  File \"/home/vvivanov/anaconda3/envs/i_am_something_of_a_painter_myself/lib/python3.9/threading.py\", line 1049, in _wait_for_tstate_lock\n",
      "    elif lock.acquire(block, timeout):\n",
      "  File \"/home/vvivanov/anaconda3/envs/i_am_something_of_a_painter_myself/lib/python3.9/multiprocessing/util.py\", line 224, in __call__\n",
      "    res = self._callback(*self._args, **self._kwargs)\n",
      "KeyboardInterrupt\n",
      "  File \"/home/vvivanov/anaconda3/envs/i_am_something_of_a_painter_myself/lib/python3.9/threading.py\", line 1049, in _wait_for_tstate_lock\n",
      "    elif lock.acquire(block, timeout):\n",
      "KeyboardInterrupt\n",
      "  File \"/home/vvivanov/anaconda3/envs/i_am_something_of_a_painter_myself/lib/python3.9/threading.py\", line 1049, in _wait_for_tstate_lock\n",
      "    elif lock.acquire(block, timeout):\n",
      "  File \"/home/vvivanov/anaconda3/envs/i_am_something_of_a_painter_myself/lib/python3.9/multiprocessing/queues.py\", line 201, in _finalize_join\n",
      "    thread.join()\n",
      "  File \"/home/vvivanov/anaconda3/envs/i_am_something_of_a_painter_myself/lib/python3.9/threading.py\", line 1033, in join\n",
      "    self._wait_for_tstate_lock()\n",
      "  File \"/home/vvivanov/anaconda3/envs/i_am_something_of_a_painter_myself/lib/python3.9/threading.py\", line 1033, in join\n",
      "    self._wait_for_tstate_lock()\n",
      "  File \"/home/vvivanov/anaconda3/envs/i_am_something_of_a_painter_myself/lib/python3.9/threading.py\", line 1033, in join\n",
      "    self._wait_for_tstate_lock()\n",
      "  File \"/home/vvivanov/anaconda3/envs/i_am_something_of_a_painter_myself/lib/python3.9/threading.py\", line 1049, in _wait_for_tstate_lock\n",
      "    elif lock.acquire(block, timeout):\n"
     ]
    },
    {
     "name": "stderr",
     "output_type": "stream",
     "text": [
      "KeyboardInterrupt\n",
      "  File \"/home/vvivanov/anaconda3/envs/i_am_something_of_a_painter_myself/lib/python3.9/threading.py\", line 1049, in _wait_for_tstate_lock\n",
      "    elif lock.acquire(block, timeout):\n",
      "  File \"/home/vvivanov/anaconda3/envs/i_am_something_of_a_painter_myself/lib/python3.9/multiprocessing/util.py\", line 224, in __call__\n",
      "    res = self._callback(*self._args, **self._kwargs)\n",
      "  File \"/home/vvivanov/anaconda3/envs/i_am_something_of_a_painter_myself/lib/python3.9/threading.py\", line 1033, in join\n",
      "    self._wait_for_tstate_lock()\n",
      "KeyboardInterrupt\n",
      "  File \"/home/vvivanov/anaconda3/envs/i_am_something_of_a_painter_myself/lib/python3.9/threading.py\", line 1049, in _wait_for_tstate_lock\n",
      "    elif lock.acquire(block, timeout):\n",
      "  File \"/home/vvivanov/anaconda3/envs/i_am_something_of_a_painter_myself/lib/python3.9/threading.py\", line 1049, in _wait_for_tstate_lock\n",
      "    elif lock.acquire(block, timeout):\n",
      "  File \"/home/vvivanov/anaconda3/envs/i_am_something_of_a_painter_myself/lib/python3.9/threading.py\", line 1033, in join\n",
      "    self._wait_for_tstate_lock()\n",
      "  File \"/home/vvivanov/anaconda3/envs/i_am_something_of_a_painter_myself/lib/python3.9/threading.py\", line 1033, in join\n",
      "    self._wait_for_tstate_lock()\n",
      "  File \"/home/vvivanov/anaconda3/envs/i_am_something_of_a_painter_myself/lib/python3.9/multiprocessing/queues.py\", line 201, in _finalize_join\n",
      "    thread.join()\n",
      "KeyboardInterrupt\n",
      "  File \"/home/vvivanov/anaconda3/envs/i_am_something_of_a_painter_myself/lib/python3.9/threading.py\", line 1033, in join\n",
      "    self._wait_for_tstate_lock()\n",
      "  File \"/home/vvivanov/anaconda3/envs/i_am_something_of_a_painter_myself/lib/python3.9/threading.py\", line 1049, in _wait_for_tstate_lock\n",
      "    elif lock.acquire(block, timeout):\n",
      "  File \"/home/vvivanov/anaconda3/envs/i_am_something_of_a_painter_myself/lib/python3.9/threading.py\", line 1033, in join\n",
      "    self._wait_for_tstate_lock()\n",
      "KeyboardInterrupt\n",
      "  File \"/home/vvivanov/anaconda3/envs/i_am_something_of_a_painter_myself/lib/python3.9/threading.py\", line 1049, in _wait_for_tstate_lock\n",
      "    elif lock.acquire(block, timeout):\n",
      "KeyboardInterrupt\n",
      "KeyboardInterrupt\n",
      "  File \"/home/vvivanov/anaconda3/envs/i_am_something_of_a_painter_myself/lib/python3.9/threading.py\", line 1049, in _wait_for_tstate_lock\n",
      "    elif lock.acquire(block, timeout):\n",
      "  File \"/home/vvivanov/anaconda3/envs/i_am_something_of_a_painter_myself/lib/python3.9/threading.py\", line 1049, in _wait_for_tstate_lock\n",
      "    elif lock.acquire(block, timeout):\n",
      "  File \"/home/vvivanov/anaconda3/envs/i_am_something_of_a_painter_myself/lib/python3.9/multiprocessing/queues.py\", line 201, in _finalize_join\n",
      "    thread.join()\n",
      "  File \"/home/vvivanov/anaconda3/envs/i_am_something_of_a_painter_myself/lib/python3.9/threading.py\", line 1049, in _wait_for_tstate_lock\n",
      "    elif lock.acquire(block, timeout):\n",
      "KeyboardInterrupt\n",
      "  File \"/home/vvivanov/anaconda3/envs/i_am_something_of_a_painter_myself/lib/python3.9/threading.py\", line 1049, in _wait_for_tstate_lock\n",
      "    elif lock.acquire(block, timeout):\n",
      "KeyboardInterrupt\n",
      "  File \"/home/vvivanov/anaconda3/envs/i_am_something_of_a_painter_myself/lib/python3.9/multiprocessing/queues.py\", line 201, in _finalize_join\n",
      "    thread.join()\n",
      "KeyboardInterrupt\n",
      "KeyboardInterrupt\n",
      "KeyboardInterrupt\n",
      "KeyboardInterrupt\n",
      "  File \"/home/vvivanov/anaconda3/envs/i_am_something_of_a_painter_myself/lib/python3.9/threading.py\", line 1049, in _wait_for_tstate_lock\n",
      "    elif lock.acquire(block, timeout):\n",
      "KeyboardInterrupt\n",
      "KeyboardInterrupt\n",
      "KeyboardInterrupt\n",
      "  File \"/home/vvivanov/anaconda3/envs/i_am_something_of_a_painter_myself/lib/python3.9/threading.py\", line 1033, in join\n",
      "    self._wait_for_tstate_lock()\n"
     ]
    }
   ],
   "source": [
    "num_epochs = 100\n",
    "\n",
    "img_list = []\n",
    "G_losses = []\n",
    "D_losses = []\n",
    "iter_counter = 0\n",
    "\n",
    "for epoch in tqdm(range(num_epochs), desc='epoch'):\n",
    "    iter_counter = 0\n",
    "    for batch_A, batch_B in tqdm(zip(loader_A, loader_B), desc='batch'):\n",
    "        iter_counter += 1\n",
    "        \n",
    "        real_A = batch_A[0].to(DEVICE) \n",
    "        real_B = batch_B[0].to(DEVICE)\n",
    "        \n",
    "        same_A = G_A(real_A)\n",
    "        same_B = G_B(real_B)\n",
    "        \n",
    "        identity_loss = LAMBDA_IDENTITY * (\n",
    "            criterion_identity(real_A, same_A) \n",
    "            + criterion_identity(real_B, same_B)\n",
    "        )\n",
    "        \n",
    "        fake_A = G_A(real_B)\n",
    "        cycled_B = G_B(fake_A)\n",
    "        \n",
    "        fake_B = G_B(real_A)\n",
    "        cycled_A = G_A(fake_B)\n",
    "        \n",
    "        cycle_loss = LAMBDA_CYCLE * (\n",
    "             criterion_cycle(real_A, cycled_A)\n",
    "            + criterion_cycle(real_B, cycled_B)\n",
    "        )        \n",
    "        \n",
    "        set_requires_grad([D_A, D_B], False)\n",
    "        optimizer_G.zero_grad()\n",
    "        \n",
    "        disc_fake_A = D_A(fake_A)\n",
    "        disc_fake_B = D_B(fake_B)\n",
    "        \n",
    "        gen_loss_A = criterion_GAN(\n",
    "            disc_fake_A, create_label_vector(disc_fake_A.size(), REAL_LABEL)\n",
    "        )\n",
    "        gen_loss_B = criterion_GAN(\n",
    "            disc_fake_B, create_label_vector(disc_fake_B.size(), REAL_LABEL)\n",
    "        )\n",
    "                \n",
    "        loss_G = gen_loss_A + gen_loss_B + cycle_loss + identity_loss\n",
    "        loss_G.backward()\n",
    "        optimizer_G.step()\n",
    "        G_losses.append(loss_G.detach().cpu().item())\n",
    "        \n",
    "        set_requires_grad([D_A, D_B], True)\n",
    "        optimizer_D.zero_grad()\n",
    "        \n",
    "        disc_real_A = D_A(real_A)\n",
    "        disc_real_B = D_B(real_B)\n",
    "        \n",
    "        disc_fake_A = D_A(fake_A.detach())\n",
    "        disc_fake_B = D_B(fake_B.detach())\n",
    "        \n",
    "        disc_loss_A = 0.5 * (\n",
    "            criterion_GAN(\n",
    "                disc_real_A, create_label_vector(disc_real_A.size(), REAL_LABEL)\n",
    "            )\n",
    "            + criterion_GAN(\n",
    "                disc_fake_A, create_label_vector(disc_fake_A.size(), FAKE_LABEL)\n",
    "            ) \n",
    "        )\n",
    "        disc_loss_A.backward()\n",
    "        \n",
    "        disc_loss_B = 0.5 * (\n",
    "            criterion_GAN(\n",
    "                disc_real_B, create_label_vector(disc_real_B.size(), REAL_LABEL)\n",
    "            )\n",
    "            + criterion_GAN(\n",
    "                disc_fake_B, create_label_vector(disc_fake_B.size(), FAKE_LABEL)\n",
    "            ) \n",
    "        )\n",
    "        disc_loss_B.backward()        \n",
    "        optimizer_D.step()\n",
    "        D_losses.append((disc_loss_A + disc_loss_B).detach().cpu().item())\n",
    "    \n",
    "    print(\n",
    "        f'Epoch {epoch}:\\n'\n",
    "        f'\\t- loss_G: {np.mean(G_losses[-iter_counter:])}\\n'\n",
    "        f'\\t- loss_D: {np.mean(D_losses[-iter_counter:])}'\n",
    "    )"
   ]
  },
  {
   "cell_type": "code",
   "execution_count": 18,
   "metadata": {},
   "outputs": [
    {
     "data": {
      "image/png": "[encoded data removed]",
      "text/plain": [
       "<Figure size 432x288 with 1 Axes>"
      ]
     },
     "metadata": {
      "needs_background": "light"
     },
     "output_type": "display_data"
    }
   ],
   "source": [
    "with torch.no_grad():\n",
    "    plt.imshow(\n",
    "        G_A(folder_B[8][0].to(DEVICE).unsqueeze(0))\n",
    "        .cpu()\n",
    "        .squeeze(0)\n",
    "        .permute((1, 2, 0))\n",
    "        .clip(0, 1)\n",
    "    )"
   ]
  },
  {
   "cell_type": "code",
   "execution_count": 17,
   "metadata": {},
   "outputs": [
    {
     "data": {
      "text/plain": [
       "<matplotlib.image.AxesImage at 0x7f6cf5ff12b0>"
      ]
     },
     "execution_count": 17,
     "metadata": {},
     "output_type": "execute_result"
    },
    {
     "data": {
      "image/png": "[encoded data removed]",
      "text/plain": [
       "<Figure size 432x288 with 1 Axes>"
      ]
     },
     "metadata": {
      "needs_background": "light"
     },
     "output_type": "display_data"
    }
   ],
   "source": [
    "plt.imshow(\n",
    "    folder_B[8][0]\n",
    "        .cpu()\n",
    "        .squeeze(0)\n",
    "        .permute((1, 2, 0))\n",
    "        .clip(0, 1)\n",
    ")"
   ]
  },
  {
   "cell_type": "code",
   "execution_count": 14,
   "metadata": {},
   "outputs": [],
   "source": [
    "torch.save(G_A.state_dict(), './G_A.pth')\n",
    "torch.save(G_B.state_dict(), './G_B.pth')\n",
    "torch.save(D_A.state_dict(), './D_A.pth')\n",
    "torch.save(D_B.state_dict(), './D_B.pth')"
   ]
  }
 ],
 "metadata": {
  "kernelspec": {
   "display_name": "Python 3",
   "language": "python",
   "name": "python3"
  },
  "language_info": {
   "codemirror_mode": {
    "name": "ipython",
    "version": 3
   },
   "file_extension": ".py",
   "mimetype": "text/x-python",
   "name": "python",
   "nbconvert_exporter": "python",
   "pygments_lexer": "ipython3",
   "version": "3.9.1"
  },
  "varInspector": {
   "cols": {
    "lenName": 16,
    "lenType": 16,
    "lenVar": 40
   },
   "kernels_config": {
    "python": {
     "delete_cmd_postfix": "",
     "delete_cmd_prefix": "del ",
     "library": "var_list.py",
     "varRefreshCmd": "print(var_dic_list())"
    },
    "r": {
     "delete_cmd_postfix": ") ",
     "delete_cmd_prefix": "rm(",
     "library": "var_list.r",
     "varRefreshCmd": "cat(var_dic_list()) "
    }
   },
   "types_to_exclude": [
    "module",
    "function",
    "builtin_function_or_method",
    "instance",
    "_Feature"
   ],
   "window_display": false
  }
 },
 "nbformat": 4,
 "nbformat_minor": 1
}
